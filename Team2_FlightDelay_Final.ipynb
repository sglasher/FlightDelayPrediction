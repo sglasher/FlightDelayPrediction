{
  "cells": [
    {
      "cell_type": "code",
      "execution_count": null,
      "metadata": {
        "colab": {
          "base_uri": "https://localhost:8080/"
        },
        "id": "ed5b39af-963a-4494-bc5c-79d732715358",
        "outputId": "b83d665c-484a-4c1b-af67-70be3280c47c"
      },
      "outputs": [
        {
          "output_type": "stream",
          "name": "stdout",
          "text": [
            "Drive already mounted at /content/drive; to attempt to forcibly remount, call drive.mount(\"/content/drive\", force_remount=True).\n"
          ]
        }
      ],
      "source": [
        "# import libraries\n",
        "import pandas as pd\n",
        "import seaborn as sns\n",
        "import numpy as np\n",
        "from scipy.stats import norm\n",
        "from scipy.stats import cauchy\n",
        "import scipy.stats\n",
        "import matplotlib.pyplot as plt\n",
        "from statsmodels.stats.proportion import proportion_confint\n",
        "from statsmodels.stats.proportion import confint_proportions_2indep\n",
        "import statsmodels.stats.api as sms\n",
        "from google.colab import drive\n",
        "drive.mount('/content/drive')"
      ],
      "id": "ed5b39af-963a-4494-bc5c-79d732715358"
    },
    {
      "cell_type": "code",
      "execution_count": null,
      "metadata": {
        "id": "71cb8a9b-c8e5-48dc-8033-461dcb0963ba"
      },
      "outputs": [],
      "source": [
        "# read csv file\n",
        "# AL = pd.read_csv('August 2018 Nationwide.2.csv')\n",
        "AL = pd.read_csv('/content/drive/MyDrive/MSAAI - 501 Introduction to AI/Team 2 AAI 501/August 2018 Nationwide.csv')"
      ],
      "id": "71cb8a9b-c8e5-48dc-8033-461dcb0963ba"
    },
    {
      "cell_type": "code",
      "execution_count": null,
      "metadata": {
        "colab": {
          "base_uri": "https://localhost:8080/",
          "height": 403
        },
        "id": "3fad8e7f-f1d8-4885-b123-8676174a1261",
        "outputId": "629702d9-7444-4f1d-d992-5d7fb6e028bc"
      },
      "outputs": [
        {
          "output_type": "execute_result",
          "data": {
            "text/plain": [
              "      FL_DATE  OP_CARRIER_AIRLINE_ID TAIL_NUM  OP_CARRIER_FL_NUM  \\\n",
              "0  2018-08-01                  19805   N956AN               1587   \n",
              "1  2018-08-01                  19805   N973AN               1588   \n",
              "2  2018-08-01                  19805    N9006               1590   \n",
              "3  2018-08-01                  19805   N870NN               1591   \n",
              "4  2018-08-01                  19805   N9023N               1593   \n",
              "\n",
              "   ORIGIN_AIRPORT_ID  ORIGIN_AIRPORT_SEQ_ID  ORIGIN_CITY_MARKET_ID ORIGIN  \\\n",
              "0              12478                1247805                  31703    JFK   \n",
              "1              14107                1410702                  30466    PHX   \n",
              "2              11042                1104205                  30647    CLE   \n",
              "3              14843                1484306                  34819    SJU   \n",
              "4              10423                1042302                  30423    AUS   \n",
              "\n",
              "   DEST_AIRPORT_ID  DEST_AIRPORT_SEQ_ID  ...  CANCELLED CANCELLATION_CODE  \\\n",
              "0            14107              1410702  ...        0.0               NaN   \n",
              "1            11618              1161802  ...        0.0               NaN   \n",
              "2            11298              1129806  ...        0.0               NaN   \n",
              "3            11298              1129806  ...        0.0               NaN   \n",
              "4            13303              1330303  ...        0.0               NaN   \n",
              "\n",
              "   CRS_ELAPSED_TIME  ACTUAL_ELAPSED_TIME  CARRIER_DELAY  WEATHER_DELAY  \\\n",
              "0             342.0                377.0            9.0            0.0   \n",
              "1             285.0                309.0            0.0            0.0   \n",
              "2             176.0                177.0            NaN            NaN   \n",
              "3             304.0                303.0           43.0            0.0   \n",
              "4             173.0                175.0            NaN            NaN   \n",
              "\n",
              "   NAS_DELAY  SECURITY_DELAY  LATE_AIRCRAFT_DELAY  Unnamed: 28  \n",
              "0       35.0             0.0                  0.0          NaN  \n",
              "1       53.0             0.0                  0.0          NaN  \n",
              "2        NaN             NaN                  NaN          NaN  \n",
              "3        0.0             0.0                  0.0          NaN  \n",
              "4        NaN             NaN                  NaN          NaN  \n",
              "\n",
              "[5 rows x 29 columns]"
            ],
            "text/html": [
              "\n",
              "  <div id=\"df-e3fda41a-f91c-4ad5-a643-767d0499399d\">\n",
              "    <div class=\"colab-df-container\">\n",
              "      <div>\n",
              "<style scoped>\n",
              "    .dataframe tbody tr th:only-of-type {\n",
              "        vertical-align: middle;\n",
              "    }\n",
              "\n",
              "    .dataframe tbody tr th {\n",
              "        vertical-align: top;\n",
              "    }\n",
              "\n",
              "    .dataframe thead th {\n",
              "        text-align: right;\n",
              "    }\n",
              "</style>\n",
              "<table border=\"1\" class=\"dataframe\">\n",
              "  <thead>\n",
              "    <tr style=\"text-align: right;\">\n",
              "      <th></th>\n",
              "      <th>FL_DATE</th>\n",
              "      <th>OP_CARRIER_AIRLINE_ID</th>\n",
              "      <th>TAIL_NUM</th>\n",
              "      <th>OP_CARRIER_FL_NUM</th>\n",
              "      <th>ORIGIN_AIRPORT_ID</th>\n",
              "      <th>ORIGIN_AIRPORT_SEQ_ID</th>\n",
              "      <th>ORIGIN_CITY_MARKET_ID</th>\n",
              "      <th>ORIGIN</th>\n",
              "      <th>DEST_AIRPORT_ID</th>\n",
              "      <th>DEST_AIRPORT_SEQ_ID</th>\n",
              "      <th>...</th>\n",
              "      <th>CANCELLED</th>\n",
              "      <th>CANCELLATION_CODE</th>\n",
              "      <th>CRS_ELAPSED_TIME</th>\n",
              "      <th>ACTUAL_ELAPSED_TIME</th>\n",
              "      <th>CARRIER_DELAY</th>\n",
              "      <th>WEATHER_DELAY</th>\n",
              "      <th>NAS_DELAY</th>\n",
              "      <th>SECURITY_DELAY</th>\n",
              "      <th>LATE_AIRCRAFT_DELAY</th>\n",
              "      <th>Unnamed: 28</th>\n",
              "    </tr>\n",
              "  </thead>\n",
              "  <tbody>\n",
              "    <tr>\n",
              "      <th>0</th>\n",
              "      <td>2018-08-01</td>\n",
              "      <td>19805</td>\n",
              "      <td>N956AN</td>\n",
              "      <td>1587</td>\n",
              "      <td>12478</td>\n",
              "      <td>1247805</td>\n",
              "      <td>31703</td>\n",
              "      <td>JFK</td>\n",
              "      <td>14107</td>\n",
              "      <td>1410702</td>\n",
              "      <td>...</td>\n",
              "      <td>0.0</td>\n",
              "      <td>NaN</td>\n",
              "      <td>342.0</td>\n",
              "      <td>377.0</td>\n",
              "      <td>9.0</td>\n",
              "      <td>0.0</td>\n",
              "      <td>35.0</td>\n",
              "      <td>0.0</td>\n",
              "      <td>0.0</td>\n",
              "      <td>NaN</td>\n",
              "    </tr>\n",
              "    <tr>\n",
              "      <th>1</th>\n",
              "      <td>2018-08-01</td>\n",
              "      <td>19805</td>\n",
              "      <td>N973AN</td>\n",
              "      <td>1588</td>\n",
              "      <td>14107</td>\n",
              "      <td>1410702</td>\n",
              "      <td>30466</td>\n",
              "      <td>PHX</td>\n",
              "      <td>11618</td>\n",
              "      <td>1161802</td>\n",
              "      <td>...</td>\n",
              "      <td>0.0</td>\n",
              "      <td>NaN</td>\n",
              "      <td>285.0</td>\n",
              "      <td>309.0</td>\n",
              "      <td>0.0</td>\n",
              "      <td>0.0</td>\n",
              "      <td>53.0</td>\n",
              "      <td>0.0</td>\n",
              "      <td>0.0</td>\n",
              "      <td>NaN</td>\n",
              "    </tr>\n",
              "    <tr>\n",
              "      <th>2</th>\n",
              "      <td>2018-08-01</td>\n",
              "      <td>19805</td>\n",
              "      <td>N9006</td>\n",
              "      <td>1590</td>\n",
              "      <td>11042</td>\n",
              "      <td>1104205</td>\n",
              "      <td>30647</td>\n",
              "      <td>CLE</td>\n",
              "      <td>11298</td>\n",
              "      <td>1129806</td>\n",
              "      <td>...</td>\n",
              "      <td>0.0</td>\n",
              "      <td>NaN</td>\n",
              "      <td>176.0</td>\n",
              "      <td>177.0</td>\n",
              "      <td>NaN</td>\n",
              "      <td>NaN</td>\n",
              "      <td>NaN</td>\n",
              "      <td>NaN</td>\n",
              "      <td>NaN</td>\n",
              "      <td>NaN</td>\n",
              "    </tr>\n",
              "    <tr>\n",
              "      <th>3</th>\n",
              "      <td>2018-08-01</td>\n",
              "      <td>19805</td>\n",
              "      <td>N870NN</td>\n",
              "      <td>1591</td>\n",
              "      <td>14843</td>\n",
              "      <td>1484306</td>\n",
              "      <td>34819</td>\n",
              "      <td>SJU</td>\n",
              "      <td>11298</td>\n",
              "      <td>1129806</td>\n",
              "      <td>...</td>\n",
              "      <td>0.0</td>\n",
              "      <td>NaN</td>\n",
              "      <td>304.0</td>\n",
              "      <td>303.0</td>\n",
              "      <td>43.0</td>\n",
              "      <td>0.0</td>\n",
              "      <td>0.0</td>\n",
              "      <td>0.0</td>\n",
              "      <td>0.0</td>\n",
              "      <td>NaN</td>\n",
              "    </tr>\n",
              "    <tr>\n",
              "      <th>4</th>\n",
              "      <td>2018-08-01</td>\n",
              "      <td>19805</td>\n",
              "      <td>N9023N</td>\n",
              "      <td>1593</td>\n",
              "      <td>10423</td>\n",
              "      <td>1042302</td>\n",
              "      <td>30423</td>\n",
              "      <td>AUS</td>\n",
              "      <td>13303</td>\n",
              "      <td>1330303</td>\n",
              "      <td>...</td>\n",
              "      <td>0.0</td>\n",
              "      <td>NaN</td>\n",
              "      <td>173.0</td>\n",
              "      <td>175.0</td>\n",
              "      <td>NaN</td>\n",
              "      <td>NaN</td>\n",
              "      <td>NaN</td>\n",
              "      <td>NaN</td>\n",
              "      <td>NaN</td>\n",
              "      <td>NaN</td>\n",
              "    </tr>\n",
              "  </tbody>\n",
              "</table>\n",
              "<p>5 rows × 29 columns</p>\n",
              "</div>\n",
              "      <button class=\"colab-df-convert\" onclick=\"convertToInteractive('df-e3fda41a-f91c-4ad5-a643-767d0499399d')\"\n",
              "              title=\"Convert this dataframe to an interactive table.\"\n",
              "              style=\"display:none;\">\n",
              "        \n",
              "  <svg xmlns=\"http://www.w3.org/2000/svg\" height=\"24px\"viewBox=\"0 0 24 24\"\n",
              "       width=\"24px\">\n",
              "    <path d=\"M0 0h24v24H0V0z\" fill=\"none\"/>\n",
              "    <path d=\"M18.56 5.44l.94 2.06.94-2.06 2.06-.94-2.06-.94-.94-2.06-.94 2.06-2.06.94zm-11 1L8.5 8.5l.94-2.06 2.06-.94-2.06-.94L8.5 2.5l-.94 2.06-2.06.94zm10 10l.94 2.06.94-2.06 2.06-.94-2.06-.94-.94-2.06-.94 2.06-2.06.94z\"/><path d=\"M17.41 7.96l-1.37-1.37c-.4-.4-.92-.59-1.43-.59-.52 0-1.04.2-1.43.59L10.3 9.45l-7.72 7.72c-.78.78-.78 2.05 0 2.83L4 21.41c.39.39.9.59 1.41.59.51 0 1.02-.2 1.41-.59l7.78-7.78 2.81-2.81c.8-.78.8-2.07 0-2.86zM5.41 20L4 18.59l7.72-7.72 1.47 1.35L5.41 20z\"/>\n",
              "  </svg>\n",
              "      </button>\n",
              "      \n",
              "  <style>\n",
              "    .colab-df-container {\n",
              "      display:flex;\n",
              "      flex-wrap:wrap;\n",
              "      gap: 12px;\n",
              "    }\n",
              "\n",
              "    .colab-df-convert {\n",
              "      background-color: #E8F0FE;\n",
              "      border: none;\n",
              "      border-radius: 50%;\n",
              "      cursor: pointer;\n",
              "      display: none;\n",
              "      fill: #1967D2;\n",
              "      height: 32px;\n",
              "      padding: 0 0 0 0;\n",
              "      width: 32px;\n",
              "    }\n",
              "\n",
              "    .colab-df-convert:hover {\n",
              "      background-color: #E2EBFA;\n",
              "      box-shadow: 0px 1px 2px rgba(60, 64, 67, 0.3), 0px 1px 3px 1px rgba(60, 64, 67, 0.15);\n",
              "      fill: #174EA6;\n",
              "    }\n",
              "\n",
              "    [theme=dark] .colab-df-convert {\n",
              "      background-color: #3B4455;\n",
              "      fill: #D2E3FC;\n",
              "    }\n",
              "\n",
              "    [theme=dark] .colab-df-convert:hover {\n",
              "      background-color: #434B5C;\n",
              "      box-shadow: 0px 1px 3px 1px rgba(0, 0, 0, 0.15);\n",
              "      filter: drop-shadow(0px 1px 2px rgba(0, 0, 0, 0.3));\n",
              "      fill: #FFFFFF;\n",
              "    }\n",
              "  </style>\n",
              "\n",
              "      <script>\n",
              "        const buttonEl =\n",
              "          document.querySelector('#df-e3fda41a-f91c-4ad5-a643-767d0499399d button.colab-df-convert');\n",
              "        buttonEl.style.display =\n",
              "          google.colab.kernel.accessAllowed ? 'block' : 'none';\n",
              "\n",
              "        async function convertToInteractive(key) {\n",
              "          const element = document.querySelector('#df-e3fda41a-f91c-4ad5-a643-767d0499399d');\n",
              "          const dataTable =\n",
              "            await google.colab.kernel.invokeFunction('convertToInteractive',\n",
              "                                                     [key], {});\n",
              "          if (!dataTable) return;\n",
              "\n",
              "          const docLinkHtml = 'Like what you see? Visit the ' +\n",
              "            '<a target=\"_blank\" href=https://colab.research.google.com/notebooks/data_table.ipynb>data table notebook</a>'\n",
              "            + ' to learn more about interactive tables.';\n",
              "          element.innerHTML = '';\n",
              "          dataTable['output_type'] = 'display_data';\n",
              "          await google.colab.output.renderOutput(dataTable, element);\n",
              "          const docLink = document.createElement('div');\n",
              "          docLink.innerHTML = docLinkHtml;\n",
              "          element.appendChild(docLink);\n",
              "        }\n",
              "      </script>\n",
              "    </div>\n",
              "  </div>\n",
              "  "
            ]
          },
          "metadata": {},
          "execution_count": 259
        }
      ],
      "source": [
        "# top records of the dataset\n",
        "AL.head()"
      ],
      "id": "3fad8e7f-f1d8-4885-b123-8676174a1261"
    },
    {
      "cell_type": "code",
      "execution_count": null,
      "metadata": {
        "colab": {
          "base_uri": "https://localhost:8080/"
        },
        "id": "e3809af7-52f3-40c7-95ed-dcc9e10cf16e",
        "outputId": "8ef83155-489f-4d3b-ae9c-e151aa222fc4"
      },
      "outputs": [
        {
          "output_type": "execute_result",
          "data": {
            "text/plain": [
              "Index(['FL_DATE', 'OP_CARRIER_AIRLINE_ID', 'TAIL_NUM', 'OP_CARRIER_FL_NUM',\n",
              "       'ORIGIN_AIRPORT_ID', 'ORIGIN_AIRPORT_SEQ_ID', 'ORIGIN_CITY_MARKET_ID',\n",
              "       'ORIGIN', 'DEST_AIRPORT_ID', 'DEST_AIRPORT_SEQ_ID',\n",
              "       'DEST_CITY_MARKET_ID', 'DEST', 'CRS_DEP_TIME', 'DEP_TIME', 'DEP_DELAY',\n",
              "       'DEP_DELAY_NEW', 'ARR_TIME', 'ARR_DELAY', 'ARR_DELAY_NEW', 'CANCELLED',\n",
              "       'CANCELLATION_CODE', 'CRS_ELAPSED_TIME', 'ACTUAL_ELAPSED_TIME',\n",
              "       'CARRIER_DELAY', 'WEATHER_DELAY', 'NAS_DELAY', 'SECURITY_DELAY',\n",
              "       'LATE_AIRCRAFT_DELAY', 'Unnamed: 28'],\n",
              "      dtype='object')"
            ]
          },
          "metadata": {},
          "execution_count": 260
        }
      ],
      "source": [
        "# checking for number of columns\n",
        "AL.columns"
      ],
      "id": "e3809af7-52f3-40c7-95ed-dcc9e10cf16e"
    },
    {
      "cell_type": "code",
      "execution_count": null,
      "metadata": {
        "id": "YTF8a2ePAzSQ"
      },
      "outputs": [],
      "source": [
        "# removing unnecessary columns, including Airport IDies Origin and Dest, cancelltion and cancellation code\n",
        "AL = AL.drop(['CANCELLED', 'CANCELLATION_CODE', 'DEST_AIRPORT_ID', 'DEST_AIRPORT_SEQ_ID', 'DEST_CITY_MARKET_ID', 'ORIGIN_AIRPORT_ID', 'ORIGIN_AIRPORT_SEQ_ID',\\\n",
        "              'ORIGIN_CITY_MARKET_ID', 'DEP_DELAY', 'CARRIER_DELAY', 'WEATHER_DELAY', 'NAS_DELAY', 'SECURITY_DELAY', 'LATE_AIRCRAFT_DELAY', 'Unnamed: 28', 'ARR_DELAY', 'ARR_DELAY_NEW'], axis=1)"
      ],
      "id": "YTF8a2ePAzSQ"
    },
    {
      "cell_type": "code",
      "execution_count": null,
      "metadata": {
        "id": "e24bc568-5b72-4ddd-8a9e-2fdd3482218d"
      },
      "outputs": [],
      "source": [
        "# renam the column \"OP_CARRIER_AIRLINE_ID\" to \"Airline_Name\"\n",
        "AL.rename(columns={\"TAIL_NUM\":\"Airline_Name\", \"DEP_DELAY_NEW\": \"DELAY\"}, inplace=True)"
      ],
      "id": "e24bc568-5b72-4ddd-8a9e-2fdd3482218d"
    },
    {
      "cell_type": "code",
      "execution_count": null,
      "metadata": {
        "colab": {
          "base_uri": "https://localhost:8080/"
        },
        "id": "0dafabd1-b8aa-499b-b943-51b28f23ada1",
        "outputId": "2ca4489b-094f-417b-c045-cc1c773d7bf7"
      },
      "outputs": [
        {
          "output_type": "execute_result",
          "data": {
            "text/plain": [
              "Index(['FL_DATE', 'OP_CARRIER_AIRLINE_ID', 'Airline_Name', 'OP_CARRIER_FL_NUM',\n",
              "       'ORIGIN', 'DEST', 'CRS_DEP_TIME', 'DEP_TIME', 'DELAY', 'ARR_TIME',\n",
              "       'CRS_ELAPSED_TIME', 'ACTUAL_ELAPSED_TIME'],\n",
              "      dtype='object')"
            ]
          },
          "metadata": {},
          "execution_count": 263
        }
      ],
      "source": [
        "# confirm the change\n",
        "AL.columns"
      ],
      "id": "0dafabd1-b8aa-499b-b943-51b28f23ada1"
    },
    {
      "cell_type": "code",
      "execution_count": null,
      "metadata": {
        "colab": {
          "base_uri": "https://localhost:8080/"
        },
        "id": "b6fd8c6f-0e0b-4bff-bff3-5992c7189f04",
        "outputId": "b75f0adc-a65a-44ae-bf27-adb05d163ef4"
      },
      "outputs": [
        {
          "output_type": "execute_result",
          "data": {
            "text/plain": [
              "FL_DATE                      0\n",
              "OP_CARRIER_AIRLINE_ID        0\n",
              "Airline_Name              1903\n",
              "OP_CARRIER_FL_NUM            0\n",
              "ORIGIN                       0\n",
              "DEST                         0\n",
              "CRS_DEP_TIME                 0\n",
              "DEP_TIME                 13563\n",
              "DELAY                    14199\n",
              "ARR_TIME                 14468\n",
              "CRS_ELAPSED_TIME             0\n",
              "ACTUAL_ELAPSED_TIME      16514\n",
              "dtype: int64"
            ]
          },
          "metadata": {},
          "execution_count": 264
        }
      ],
      "source": [
        "# to check for the missing value\n",
        "AL.isnull().sum()"
      ],
      "id": "b6fd8c6f-0e0b-4bff-bff3-5992c7189f04"
    },
    {
      "cell_type": "code",
      "execution_count": null,
      "metadata": {
        "id": "C4mE_-ujAWZS"
      },
      "outputs": [],
      "source": [
        "# Remove Any Rows Containing Nulls\n",
        "AL.dropna(inplace=True)"
      ],
      "id": "C4mE_-ujAWZS"
    },
    {
      "cell_type": "code",
      "execution_count": null,
      "metadata": {
        "colab": {
          "base_uri": "https://localhost:8080/"
        },
        "id": "VJcWUzp7DH3X",
        "outputId": "a55bc734-f69e-4707-e6c5-bb96235b4396"
      },
      "outputs": [
        {
          "output_type": "execute_result",
          "data": {
            "text/plain": [
              "FL_DATE                  0\n",
              "OP_CARRIER_AIRLINE_ID    0\n",
              "Airline_Name             0\n",
              "OP_CARRIER_FL_NUM        0\n",
              "ORIGIN                   0\n",
              "DEST                     0\n",
              "CRS_DEP_TIME             0\n",
              "DEP_TIME                 0\n",
              "DELAY                    0\n",
              "ARR_TIME                 0\n",
              "CRS_ELAPSED_TIME         0\n",
              "ACTUAL_ELAPSED_TIME      0\n",
              "dtype: int64"
            ]
          },
          "metadata": {},
          "execution_count": 266
        }
      ],
      "source": [
        "# to check for the missing value\n",
        "AL.isnull().sum()"
      ],
      "id": "VJcWUzp7DH3X"
    },
    {
      "cell_type": "code",
      "execution_count": null,
      "metadata": {
        "colab": {
          "base_uri": "https://localhost:8080/"
        },
        "id": "18e-TvkKDMKi",
        "outputId": "30944940-4aec-4fc6-a5b3-0fcb8b9a4b7b"
      },
      "outputs": [
        {
          "output_type": "execute_result",
          "data": {
            "text/plain": [
              "684260"
            ]
          },
          "metadata": {},
          "execution_count": 267
        }
      ],
      "source": [
        "len(AL)"
      ],
      "id": "18e-TvkKDMKi"
    },
    {
      "cell_type": "code",
      "execution_count": null,
      "metadata": {
        "id": "-QDIT9eNFaAR"
      },
      "outputs": [],
      "source": [
        "AL['DELAY'] = AL['DELAY'].astype('bool')"
      ],
      "id": "-QDIT9eNFaAR"
    },
    {
      "cell_type": "code",
      "execution_count": null,
      "metadata": {
        "colab": {
          "base_uri": "https://localhost:8080/"
        },
        "id": "e9fa8350-aa8d-43c7-8fb9-6cbe83fca37b",
        "outputId": "ee14f00d-1430-4642-b7fa-979fc5cb1ccd"
      },
      "outputs": [
        {
          "output_type": "stream",
          "name": "stdout",
          "text": [
            "<class 'pandas.core.frame.DataFrame'>\n",
            "Int64Index: 684260 entries, 0 to 701351\n",
            "Data columns (total 12 columns):\n",
            " #   Column                 Non-Null Count   Dtype  \n",
            "---  ------                 --------------   -----  \n",
            " 0   FL_DATE                684260 non-null  object \n",
            " 1   OP_CARRIER_AIRLINE_ID  684260 non-null  int64  \n",
            " 2   Airline_Name           684260 non-null  object \n",
            " 3   OP_CARRIER_FL_NUM      684260 non-null  int64  \n",
            " 4   ORIGIN                 684260 non-null  object \n",
            " 5   DEST                   684260 non-null  object \n",
            " 6   CRS_DEP_TIME           684260 non-null  int64  \n",
            " 7   DEP_TIME               684260 non-null  float64\n",
            " 8   DELAY                  684260 non-null  bool   \n",
            " 9   ARR_TIME               684260 non-null  float64\n",
            " 10  CRS_ELAPSED_TIME       684260 non-null  float64\n",
            " 11  ACTUAL_ELAPSED_TIME    684260 non-null  float64\n",
            "dtypes: bool(1), float64(4), int64(3), object(4)\n",
            "memory usage: 63.3+ MB\n"
          ]
        }
      ],
      "source": [
        "# check for information concerning dataset\n",
        "AL.info()"
      ],
      "id": "e9fa8350-aa8d-43c7-8fb9-6cbe83fca37b"
    },
    {
      "cell_type": "code",
      "execution_count": null,
      "metadata": {
        "colab": {
          "base_uri": "https://localhost:8080/"
        },
        "id": "9ae8ba15-ea48-4402-9aca-4f358336cf08",
        "outputId": "53098a28-e43d-4d98-bde7-fe9a965944b1"
      },
      "outputs": [
        {
          "output_type": "execute_result",
          "data": {
            "text/plain": [
              "Airline_Name\n",
              "215NV      81\n",
              "216NV     144\n",
              "217NV      66\n",
              "218NV      71\n",
              "219NV     111\n",
              "         ... \n",
              "N998AN     93\n",
              "N998AT    155\n",
              "N998DL    200\n",
              "N998NN     99\n",
              "N999DN    193\n",
              "Name: Airline_Name, Length: 5757, dtype: int64"
            ]
          },
          "metadata": {},
          "execution_count": 270
        }
      ],
      "source": [
        "AL.groupby(\"Airline_Name\")[\"Airline_Name\"].agg(\"count\")"
      ],
      "id": "9ae8ba15-ea48-4402-9aca-4f358336cf08"
    },
    {
      "cell_type": "code",
      "execution_count": null,
      "metadata": {
        "colab": {
          "base_uri": "https://localhost:8080/"
        },
        "id": "33acdd5b-196e-4e65-b515-585119b80bb3",
        "outputId": "6fc688d0-4ad6-4a3c-b2ad-acb27d473bc1"
      },
      "outputs": [
        {
          "output_type": "execute_result",
          "data": {
            "text/plain": [
              "array(['N956AN', 'N973AN', 'N9006', ..., 'N24972', 'N217UA', 'N656NK'],\n",
              "      dtype=object)"
            ]
          },
          "metadata": {},
          "execution_count": 271
        }
      ],
      "source": [
        "# check for the unique values in the column \"Airline_Name\"\n",
        "AL['Airline_Name'].unique()"
      ],
      "id": "33acdd5b-196e-4e65-b515-585119b80bb3"
    },
    {
      "cell_type": "code",
      "execution_count": null,
      "metadata": {
        "id": "b970f5c8-fb34-46fa-8ffe-20b55c1f4dbf"
      },
      "outputs": [],
      "source": [
        "# to clean the column, replace this Tail numbers with unique values (airline_name)\n",
        "AL[\"Airline_Name\"] = AL[\"Airline_Name\"].str.replace(\"215NV\", \"Allegiant Air\")\n",
        "AL[\"Airline_Name\"] = AL[\"Airline_Name\"].str.replace(\"216NV\", \"Allegiant Air\")\n",
        "AL[\"Airline_Name\"] = AL[\"Airline_Name\"].str.replace(\"217NV\", \"Allegiant Air\")\n",
        "AL[\"Airline_Name\"] = AL[\"Airline_Name\"].str.replace(\"218NV\", \"Allegiant Air\")\n",
        "AL[\"Airline_Name\"] = AL[\"Airline_Name\"].str.replace(\"219NV\", \"Allegiant Air\")\n",
        "AL[\"Airline_Name\"] = AL[\"Airline_Name\"].str.replace(\"N998AN\", \"American Airlines\")\n",
        "AL[\"Airline_Name\"] = AL[\"Airline_Name\"].str.replace(\"N998AT\", \"Delta Air Lines\")\n",
        "AL[\"Airline_Name\"] = AL[\"Airline_Name\"].str.replace(\"N998DL\", \"Delta Air Lines\")\n",
        "AL[\"Airline_Name\"] = AL[\"Airline_Name\"].str.replace(\"N998NN\", \"American Airlines\")\n",
        "AL[\"Airline_Name\"] = AL[\"Airline_Name\"].str.replace(\"N999DN\", \"Delta Air Lines\")"
      ],
      "id": "b970f5c8-fb34-46fa-8ffe-20b55c1f4dbf"
    },
    {
      "cell_type": "code",
      "execution_count": null,
      "metadata": {
        "colab": {
          "base_uri": "https://localhost:8080/"
        },
        "id": "2f8b7a94-0d35-4b65-aa45-cd37dfd70056",
        "outputId": "d58c7bf2-632f-4548-c97c-769567453ca5"
      },
      "outputs": [
        {
          "output_type": "execute_result",
          "data": {
            "text/plain": [
              "array(['N956AN', 'N973AN', 'N9006', ..., 'N24972', 'N217UA', 'N656NK'],\n",
              "      dtype=object)"
            ]
          },
          "metadata": {},
          "execution_count": 273
        }
      ],
      "source": [
        "# to confirm the change- trying to get full list of unique items!(any idea?!)\n",
        "UI = AL[\"Airline_Name\"].unique()\n",
        "UI"
      ],
      "id": "2f8b7a94-0d35-4b65-aa45-cd37dfd70056"
    },
    {
      "cell_type": "code",
      "execution_count": null,
      "metadata": {
        "colab": {
          "base_uri": "https://localhost:8080/",
          "height": 447
        },
        "id": "d016de75-6b20-42c5-8afc-20e1495ecfe1",
        "outputId": "7926d38f-7c38-4c0a-bed4-a59167ea80c3"
      },
      "outputs": [
        {
          "output_type": "execute_result",
          "data": {
            "text/plain": [
              "<Axes: >"
            ]
          },
          "metadata": {},
          "execution_count": 274
        },
        {
          "output_type": "display_data",
          "data": {
            "text/plain": [
              "<Figure size 640x480 with 1 Axes>"
            ],
            "image/png": "[encoded data removed]"
          },
          "metadata": {}
        }
      ],
      "source": [
        "# checking for outliers in the dataset\n",
        "sns.boxplot(AL[\"CRS_DEP_TIME\"])"
      ],
      "id": "d016de75-6b20-42c5-8afc-20e1495ecfe1"
    },
    {
      "cell_type": "code",
      "execution_count": null,
      "metadata": {
        "colab": {
          "base_uri": "https://localhost:8080/",
          "height": 450
        },
        "id": "9c867c94-695e-4683-b049-f2c3db212b5f",
        "outputId": "414eec76-ee3e-4e60-9d02-5e6c7c6268da"
      },
      "outputs": [
        {
          "output_type": "execute_result",
          "data": {
            "text/plain": [
              "<Axes: >"
            ]
          },
          "metadata": {},
          "execution_count": 275
        },
        {
          "output_type": "display_data",
          "data": {
            "text/plain": [
              "<Figure size 640x480 with 1 Axes>"
            ],
            "image/png": "[encoded data removed]"
          },
          "metadata": {}
        }
      ],
      "source": [
        "sns.boxplot(AL[\"DEP_TIME\"])"
      ],
      "id": "9c867c94-695e-4683-b049-f2c3db212b5f"
    },
    {
      "cell_type": "code",
      "execution_count": null,
      "metadata": {
        "id": "92d7b13e-2565-4c2e-ada8-0dbdc7dae5dd"
      },
      "outputs": [],
      "source": [
        "# sns.boxplot(AL[\"DEP_DELAY\"])"
      ],
      "id": "92d7b13e-2565-4c2e-ada8-0dbdc7dae5dd"
    },
    {
      "cell_type": "code",
      "execution_count": null,
      "metadata": {
        "id": "291e1cb1-37d5-4aee-9257-288c1c8ecc97"
      },
      "outputs": [],
      "source": [
        "# sns.boxplot(AL[\"DEP_DELAY_NEW\"])"
      ],
      "id": "291e1cb1-37d5-4aee-9257-288c1c8ecc97"
    },
    {
      "cell_type": "code",
      "execution_count": null,
      "metadata": {
        "id": "f594d73e-a460-4787-9cb4-68a89bf2cec4"
      },
      "outputs": [],
      "source": [
        "# sns.boxplot(AL[\"ARR_TIME\"])"
      ],
      "id": "f594d73e-a460-4787-9cb4-68a89bf2cec4"
    },
    {
      "cell_type": "code",
      "execution_count": null,
      "metadata": {
        "id": "e54fc89c-8989-464a-89d5-08172f52ab81"
      },
      "outputs": [],
      "source": [
        "# sns.boxplot(AL[\"ARR_DELAY\"])"
      ],
      "id": "e54fc89c-8989-464a-89d5-08172f52ab81"
    },
    {
      "cell_type": "code",
      "execution_count": null,
      "metadata": {
        "id": "e26ff269-d866-4e21-9764-bea021590e09"
      },
      "outputs": [],
      "source": [
        "# sns.boxplot(AL[\"ARR_DELAY_NEW\"])"
      ],
      "id": "e26ff269-d866-4e21-9764-bea021590e09"
    },
    {
      "cell_type": "code",
      "execution_count": null,
      "metadata": {
        "id": "0821daee-ed6c-4495-9ffd-4a48dc9e8e3c"
      },
      "outputs": [],
      "source": [
        "# sns.boxplot(AL[\"CANCELLED\"])"
      ],
      "id": "0821daee-ed6c-4495-9ffd-4a48dc9e8e3c"
    },
    {
      "cell_type": "code",
      "execution_count": null,
      "metadata": {
        "colab": {
          "base_uri": "https://localhost:8080/",
          "height": 447
        },
        "id": "c8c9f19c-0e97-4462-800e-6bbefa932535",
        "outputId": "c4d02543-0f64-40ea-d93e-1522fdc44899"
      },
      "outputs": [
        {
          "output_type": "execute_result",
          "data": {
            "text/plain": [
              "<Axes: >"
            ]
          },
          "metadata": {},
          "execution_count": 282
        },
        {
          "output_type": "display_data",
          "data": {
            "text/plain": [
              "<Figure size 640x480 with 1 Axes>"
            ],
            "image/png": "[encoded data removed]"
          },
          "metadata": {}
        }
      ],
      "source": [
        "sns.boxplot(AL[\"CRS_ELAPSED_TIME\"])"
      ],
      "id": "c8c9f19c-0e97-4462-800e-6bbefa932535"
    },
    {
      "cell_type": "code",
      "execution_count": null,
      "metadata": {
        "colab": {
          "base_uri": "https://localhost:8080/",
          "height": 447
        },
        "id": "fce075c3-1f19-4ce8-a823-42fb0480f212",
        "outputId": "f76262c5-186e-43b8-9227-42ef8011af8e"
      },
      "outputs": [
        {
          "output_type": "execute_result",
          "data": {
            "text/plain": [
              "<Axes: >"
            ]
          },
          "metadata": {},
          "execution_count": 283
        },
        {
          "output_type": "display_data",
          "data": {
            "text/plain": [
              "<Figure size 640x480 with 1 Axes>"
            ],
            "image/png": "[encoded data removed]"
          },
          "metadata": {}
        }
      ],
      "source": [
        "sns.boxplot(AL[\"ACTUAL_ELAPSED_TIME\"])"
      ],
      "id": "fce075c3-1f19-4ce8-a823-42fb0480f212"
    },
    {
      "cell_type": "code",
      "execution_count": null,
      "metadata": {
        "id": "e56ce955-3757-4a9f-9572-8ab38c3f396d"
      },
      "outputs": [],
      "source": [
        "# sns.boxplot(AL[\"CARRIER_DELAY\"])"
      ],
      "id": "e56ce955-3757-4a9f-9572-8ab38c3f396d"
    },
    {
      "cell_type": "code",
      "execution_count": null,
      "metadata": {
        "id": "c0789fee-f300-4cf9-a603-484c50d59031"
      },
      "outputs": [],
      "source": [
        "# sns.boxplot(AL[\"WEATHER_DELAY\"])"
      ],
      "id": "c0789fee-f300-4cf9-a603-484c50d59031"
    },
    {
      "cell_type": "code",
      "execution_count": null,
      "metadata": {
        "id": "1522a628-61a4-400a-90be-28252d1b0224"
      },
      "outputs": [],
      "source": [
        "# sns.boxplot(AL[\"NAS_DELAY\"])"
      ],
      "id": "1522a628-61a4-400a-90be-28252d1b0224"
    },
    {
      "cell_type": "code",
      "execution_count": null,
      "metadata": {
        "id": "39b3cce2-e129-48b4-875b-39e39ac8f1c4"
      },
      "outputs": [],
      "source": [
        "# sns.boxplot(AL[\"SECURITY_DELAY\"])"
      ],
      "id": "39b3cce2-e129-48b4-875b-39e39ac8f1c4"
    },
    {
      "cell_type": "code",
      "execution_count": null,
      "metadata": {
        "id": "691e2ed3-3e3b-4653-95b1-f301acf25ceb"
      },
      "outputs": [],
      "source": [
        "# sns.boxplot(AL[\"LATE_AIRCRAFT_DELAY\"])"
      ],
      "id": "691e2ed3-3e3b-4653-95b1-f301acf25ceb"
    },
    {
      "cell_type": "code",
      "execution_count": null,
      "metadata": {
        "colab": {
          "base_uri": "https://localhost:8080/"
        },
        "id": "1c94d2f0-9194-4334-bd38-209f8ae54c40",
        "outputId": "3829eb8d-2b53-4885-f24e-69994c2ce6cd"
      },
      "outputs": [
        {
          "output_type": "execute_result",
          "data": {
            "text/plain": [
              "0         False\n",
              "1         False\n",
              "2         False\n",
              "3         False\n",
              "4         False\n",
              "          ...  \n",
              "701347    False\n",
              "701348    False\n",
              "701349    False\n",
              "701350    False\n",
              "701351    False\n",
              "Length: 684260, dtype: bool"
            ]
          },
          "metadata": {},
          "execution_count": 289
        }
      ],
      "source": [
        "# chechink for duplicate values\n",
        "AL.duplicated()"
      ],
      "id": "1c94d2f0-9194-4334-bd38-209f8ae54c40"
    },
    {
      "cell_type": "code",
      "execution_count": null,
      "metadata": {
        "id": "d259062d-8273-4c80-9545-c6c0354fbacb"
      },
      "outputs": [],
      "source": [
        "# saving the new dataset into a csv file\n",
        "AL.to_csv(\"cleaned_data2AL.csv\")"
      ],
      "id": "d259062d-8273-4c80-9545-c6c0354fbacb"
    },
    {
      "cell_type": "code",
      "execution_count": null,
      "metadata": {
        "colab": {
          "base_uri": "https://localhost:8080/"
        },
        "id": "1697c57a-06f3-4bda-8de9-2e20bb616105",
        "outputId": "1b574ac0-c316-4fed-de02-403460546b14"
      },
      "outputs": [
        {
          "output_type": "stream",
          "name": "stdout",
          "text": [
            "           FL_DATE  OP_CARRIER_AIRLINE_ID Airline_Name  OP_CARRIER_FL_NUM  \\\n",
            "0       2018-08-01                  19805       N956AN               1587   \n",
            "1       2018-08-01                  19805       N973AN               1588   \n",
            "2       2018-08-01                  19805        N9006               1590   \n",
            "3       2018-08-01                  19805       N870NN               1591   \n",
            "4       2018-08-01                  19805       N9023N               1593   \n",
            "...            ...                    ...          ...                ...   \n",
            "701347  2018-08-31                  19805       N971AN               2357   \n",
            "701348  2018-08-31                  19805       N936AN               2358   \n",
            "701349  2018-08-31                  19805       N831AA               2360   \n",
            "701350  2018-08-31                  19805       N952NN               2361   \n",
            "701351  2018-08-31                  19805       N839NN               2362   \n",
            "\n",
            "       ORIGIN DEST  CRS_DEP_TIME  DEP_TIME  DELAY  ARR_TIME  CRS_ELAPSED_TIME  \\\n",
            "0         JFK  PHX          1640    1649.0   True    2006.0             342.0   \n",
            "1         PHX  EWR          1512    1541.0   True    2350.0             285.0   \n",
            "2         CLE  DFW           744     741.0  False     938.0             176.0   \n",
            "3         SJU  DFW           900     944.0   True    1347.0             304.0   \n",
            "4         AUS  MIA           600     556.0  False     951.0             173.0   \n",
            "...       ...  ...           ...       ...    ...       ...               ...   \n",
            "701347    SLC  DFW          1533    1527.0  False    1857.0             161.0   \n",
            "701348    TUS  ORD           540     530.0  False    1116.0             204.0   \n",
            "701349    DFW  LAX          1905    1907.0   True    2009.0             198.0   \n",
            "701350    LAX  MCO           810     808.0  False    1612.0             307.0   \n",
            "701351    MIA  DCA          2135    2251.0   True     112.0             158.0   \n",
            "\n",
            "        ACTUAL_ELAPSED_TIME  \n",
            "0                     377.0  \n",
            "1                     309.0  \n",
            "2                     177.0  \n",
            "3                     303.0  \n",
            "4                     175.0  \n",
            "...                     ...  \n",
            "701347                150.0  \n",
            "701348                226.0  \n",
            "701349                182.0  \n",
            "701350                304.0  \n",
            "701351                141.0  \n",
            "\n",
            "[684260 rows x 12 columns]\n"
          ]
        }
      ],
      "source": [
        "# removing unnecessary columns, including Airport IDies Origin and Dest, cancelltion and cancellation code\n",
        "# AL = AL.drop(['CANCELLED', 'CANCELLATION_CODE', 'DEST_AIRPORT_ID', 'DEST_AIRPORT_SEQ_ID', 'DEST_CITY_MARKET_ID', 'ORIGIN_AIRPORT_ID', 'ORIGIN_AIRPORT_SEQ_ID',\\\n",
        "              # 'ORIGIN_CITY_MARKET_ID', 'DEP_DELAY', 'DEP_DELAY_NEW', 'CARRIER_DELAY', 'WEATHER_DELAY', 'NAS_DELAY', 'SECURITY_DELAY', 'LATE_AIRCRAFT_DELAY', 'Unamed: 28', 'ARR_DELAY', 'ARR_DELAY_NEW'], axis=1)\n",
        "\n",
        "# print the remaining columns\n",
        "print(AL)"
      ],
      "id": "1697c57a-06f3-4bda-8de9-2e20bb616105"
    },
    {
      "cell_type": "code",
      "execution_count": null,
      "metadata": {
        "id": "IDEDstwvHWlV"
      },
      "outputs": [],
      "source": [
        "from sklearn import preprocessing\n",
        "\n",
        "categorical_columns = ['OP_CARRIER_AIRLINE_ID', 'Airline_Name', 'OP_CARRIER_FL_NUM', 'ORIGIN', 'DEST']\n",
        "\n",
        "# label_encoder object knows how to understand word labels.\n",
        "label_encoder = preprocessing.LabelEncoder()\n",
        "  \n",
        "# Encode labels in categorical columns.\n",
        "for cat in categorical_columns:\n",
        "  cat_le =  label_encoder.fit_transform(AL[cat])\n",
        "  if 'ORIGIN' == cat:\n",
        "    origin_name_mapping = dict(zip(cat_le, AL[cat]))\n",
        "  elif 'DEST' == cat:\n",
        "    dest_name_mapping = dict(zip(cat_le, AL[cat]))\n",
        "\n",
        "  AL[cat] = cat_le"
      ],
      "id": "IDEDstwvHWlV"
    },
    {
      "cell_type": "markdown",
      "metadata": {
        "id": "Cc13_VXtLBMe"
      },
      "source": [
        "### Exploratory Data Analysis"
      ],
      "id": "Cc13_VXtLBMe"
    },
    {
      "cell_type": "code",
      "execution_count": null,
      "metadata": {
        "colab": {
          "base_uri": "https://localhost:8080/",
          "height": 293
        },
        "id": "6fQdg9kgD3v-",
        "outputId": "e40110cf-0e03-48f8-897e-c8e39e4694d0"
      },
      "outputs": [
        {
          "output_type": "stream",
          "name": "stderr",
          "text": [
            "SettingWithCopyWarning: \n",
            "A value is trying to be set on a copy of a slice from a DataFrame.\n",
            "Try using .loc[row_indexer,col_indexer] = value instead\n",
            "\n",
            "See the caveats in the documentation: https://pandas.pydata.org/pandas-docs/stable/user_guide/indexing.html#returning-a-view-versus-a-copy\n"
          ]
        },
        {
          "output_type": "execute_result",
          "data": {
            "text/plain": [
              "   OP_CARRIER_AIRLINE_ID  Airline_Name  OP_CARRIER_FL_NUM  ORIGIN  DEST  \\\n",
              "0                      4          5444               1584     179   265   \n",
              "1                      4          5599               1585     265   114   \n",
              "2                      4          4850               1587      70    92   \n",
              "3                      4          4662               1588     322    92   \n",
              "4                      4          4880               1590      24   223   \n",
              "\n",
              "   DELAY  FL_DATE  \n",
              "0   True        0  \n",
              "1   True        0  \n",
              "2  False        0  \n",
              "3   True        0  \n",
              "4  False        0  "
            ],
            "text/html": [
              "\n",
              "  <div id=\"df-831ed56b-d980-4e75-95d2-d131bc6c1f13\">\n",
              "    <div class=\"colab-df-container\">\n",
              "      <div>\n",
              "<style scoped>\n",
              "    .dataframe tbody tr th:only-of-type {\n",
              "        vertical-align: middle;\n",
              "    }\n",
              "\n",
              "    .dataframe tbody tr th {\n",
              "        vertical-align: top;\n",
              "    }\n",
              "\n",
              "    .dataframe thead th {\n",
              "        text-align: right;\n",
              "    }\n",
              "</style>\n",
              "<table border=\"1\" class=\"dataframe\">\n",
              "  <thead>\n",
              "    <tr style=\"text-align: right;\">\n",
              "      <th></th>\n",
              "      <th>OP_CARRIER_AIRLINE_ID</th>\n",
              "      <th>Airline_Name</th>\n",
              "      <th>OP_CARRIER_FL_NUM</th>\n",
              "      <th>ORIGIN</th>\n",
              "      <th>DEST</th>\n",
              "      <th>DELAY</th>\n",
              "      <th>FL_DATE</th>\n",
              "    </tr>\n",
              "  </thead>\n",
              "  <tbody>\n",
              "    <tr>\n",
              "      <th>0</th>\n",
              "      <td>4</td>\n",
              "      <td>5444</td>\n",
              "      <td>1584</td>\n",
              "      <td>179</td>\n",
              "      <td>265</td>\n",
              "      <td>True</td>\n",
              "      <td>0</td>\n",
              "    </tr>\n",
              "    <tr>\n",
              "      <th>1</th>\n",
              "      <td>4</td>\n",
              "      <td>5599</td>\n",
              "      <td>1585</td>\n",
              "      <td>265</td>\n",
              "      <td>114</td>\n",
              "      <td>True</td>\n",
              "      <td>0</td>\n",
              "    </tr>\n",
              "    <tr>\n",
              "      <th>2</th>\n",
              "      <td>4</td>\n",
              "      <td>4850</td>\n",
              "      <td>1587</td>\n",
              "      <td>70</td>\n",
              "      <td>92</td>\n",
              "      <td>False</td>\n",
              "      <td>0</td>\n",
              "    </tr>\n",
              "    <tr>\n",
              "      <th>3</th>\n",
              "      <td>4</td>\n",
              "      <td>4662</td>\n",
              "      <td>1588</td>\n",
              "      <td>322</td>\n",
              "      <td>92</td>\n",
              "      <td>True</td>\n",
              "      <td>0</td>\n",
              "    </tr>\n",
              "    <tr>\n",
              "      <th>4</th>\n",
              "      <td>4</td>\n",
              "      <td>4880</td>\n",
              "      <td>1590</td>\n",
              "      <td>24</td>\n",
              "      <td>223</td>\n",
              "      <td>False</td>\n",
              "      <td>0</td>\n",
              "    </tr>\n",
              "  </tbody>\n",
              "</table>\n",
              "</div>\n",
              "      <button class=\"colab-df-convert\" onclick=\"convertToInteractive('df-831ed56b-d980-4e75-95d2-d131bc6c1f13')\"\n",
              "              title=\"Convert this dataframe to an interactive table.\"\n",
              "              style=\"display:none;\">\n",
              "        \n",
              "  <svg xmlns=\"http://www.w3.org/2000/svg\" height=\"24px\"viewBox=\"0 0 24 24\"\n",
              "       width=\"24px\">\n",
              "    <path d=\"M0 0h24v24H0V0z\" fill=\"none\"/>\n",
              "    <path d=\"M18.56 5.44l.94 2.06.94-2.06 2.06-.94-2.06-.94-.94-2.06-.94 2.06-2.06.94zm-11 1L8.5 8.5l.94-2.06 2.06-.94-2.06-.94L8.5 2.5l-.94 2.06-2.06.94zm10 10l.94 2.06.94-2.06 2.06-.94-2.06-.94-.94-2.06-.94 2.06-2.06.94z\"/><path d=\"M17.41 7.96l-1.37-1.37c-.4-.4-.92-.59-1.43-.59-.52 0-1.04.2-1.43.59L10.3 9.45l-7.72 7.72c-.78.78-.78 2.05 0 2.83L4 21.41c.39.39.9.59 1.41.59.51 0 1.02-.2 1.41-.59l7.78-7.78 2.81-2.81c.8-.78.8-2.07 0-2.86zM5.41 20L4 18.59l7.72-7.72 1.47 1.35L5.41 20z\"/>\n",
              "  </svg>\n",
              "      </button>\n",
              "      \n",
              "  <style>\n",
              "    .colab-df-container {\n",
              "      display:flex;\n",
              "      flex-wrap:wrap;\n",
              "      gap: 12px;\n",
              "    }\n",
              "\n",
              "    .colab-df-convert {\n",
              "      background-color: #E8F0FE;\n",
              "      border: none;\n",
              "      border-radius: 50%;\n",
              "      cursor: pointer;\n",
              "      display: none;\n",
              "      fill: #1967D2;\n",
              "      height: 32px;\n",
              "      padding: 0 0 0 0;\n",
              "      width: 32px;\n",
              "    }\n",
              "\n",
              "    .colab-df-convert:hover {\n",
              "      background-color: #E2EBFA;\n",
              "      box-shadow: 0px 1px 2px rgba(60, 64, 67, 0.3), 0px 1px 3px 1px rgba(60, 64, 67, 0.15);\n",
              "      fill: #174EA6;\n",
              "    }\n",
              "\n",
              "    [theme=dark] .colab-df-convert {\n",
              "      background-color: #3B4455;\n",
              "      fill: #D2E3FC;\n",
              "    }\n",
              "\n",
              "    [theme=dark] .colab-df-convert:hover {\n",
              "      background-color: #434B5C;\n",
              "      box-shadow: 0px 1px 3px 1px rgba(0, 0, 0, 0.15);\n",
              "      filter: drop-shadow(0px 1px 2px rgba(0, 0, 0, 0.3));\n",
              "      fill: #FFFFFF;\n",
              "    }\n",
              "  </style>\n",
              "\n",
              "      <script>\n",
              "        const buttonEl =\n",
              "          document.querySelector('#df-831ed56b-d980-4e75-95d2-d131bc6c1f13 button.colab-df-convert');\n",
              "        buttonEl.style.display =\n",
              "          google.colab.kernel.accessAllowed ? 'block' : 'none';\n",
              "\n",
              "        async function convertToInteractive(key) {\n",
              "          const element = document.querySelector('#df-831ed56b-d980-4e75-95d2-d131bc6c1f13');\n",
              "          const dataTable =\n",
              "            await google.colab.kernel.invokeFunction('convertToInteractive',\n",
              "                                                     [key], {});\n",
              "          if (!dataTable) return;\n",
              "\n",
              "          const docLinkHtml = 'Like what you see? Visit the ' +\n",
              "            '<a target=\"_blank\" href=https://colab.research.google.com/notebooks/data_table.ipynb>data table notebook</a>'\n",
              "            + ' to learn more about interactive tables.';\n",
              "          element.innerHTML = '';\n",
              "          dataTable['output_type'] = 'display_data';\n",
              "          await google.colab.output.renderOutput(dataTable, element);\n",
              "          const docLink = document.createElement('div');\n",
              "          docLink.innerHTML = docLinkHtml;\n",
              "          element.appendChild(docLink);\n",
              "        }\n",
              "      </script>\n",
              "    </div>\n",
              "  </div>\n",
              "  "
            ]
          },
          "metadata": {},
          "execution_count": 293
        }
      ],
      "source": [
        "## Determine Correlation Between Parameters and the Categorical Target, Delay\n",
        "import scipy.stats as ss\n",
        "from itertools import product\n",
        "\n",
        "categorical_columns.append('DELAY')\n",
        "categorical_columns.append('FL_DATE')\n",
        "AL_cat = AL[categorical_columns]\n",
        "AL_cat['FL_DATE'] = label_encoder.fit_transform(AL_cat['FL_DATE'])\n",
        "\n",
        "AL_cat.head()"
      ],
      "id": "6fQdg9kgD3v-"
    },
    {
      "cell_type": "code",
      "execution_count": null,
      "metadata": {
        "colab": {
          "base_uri": "https://localhost:8080/"
        },
        "id": "sB7WjkZOJ3O4",
        "outputId": "28e0b451-92a3-4aa3-f6bf-f6ed793cadba"
      },
      "outputs": [
        {
          "output_type": "stream",
          "name": "stdout",
          "text": [
            "[('OP_CARRIER_AIRLINE_ID', 'OP_CARRIER_AIRLINE_ID'), ('OP_CARRIER_AIRLINE_ID', 'Airline_Name'), ('OP_CARRIER_AIRLINE_ID', 'OP_CARRIER_FL_NUM'), ('OP_CARRIER_AIRLINE_ID', 'ORIGIN'), ('OP_CARRIER_AIRLINE_ID', 'DEST'), ('OP_CARRIER_AIRLINE_ID', 'DELAY'), ('OP_CARRIER_AIRLINE_ID', 'FL_DATE'), ('Airline_Name', 'OP_CARRIER_AIRLINE_ID'), ('Airline_Name', 'Airline_Name'), ('Airline_Name', 'OP_CARRIER_FL_NUM'), ('Airline_Name', 'ORIGIN'), ('Airline_Name', 'DEST'), ('Airline_Name', 'DELAY'), ('Airline_Name', 'FL_DATE'), ('OP_CARRIER_FL_NUM', 'OP_CARRIER_AIRLINE_ID'), ('OP_CARRIER_FL_NUM', 'Airline_Name'), ('OP_CARRIER_FL_NUM', 'OP_CARRIER_FL_NUM'), ('OP_CARRIER_FL_NUM', 'ORIGIN'), ('OP_CARRIER_FL_NUM', 'DEST'), ('OP_CARRIER_FL_NUM', 'DELAY'), ('OP_CARRIER_FL_NUM', 'FL_DATE'), ('ORIGIN', 'OP_CARRIER_AIRLINE_ID'), ('ORIGIN', 'Airline_Name'), ('ORIGIN', 'OP_CARRIER_FL_NUM'), ('ORIGIN', 'ORIGIN'), ('ORIGIN', 'DEST'), ('ORIGIN', 'DELAY'), ('ORIGIN', 'FL_DATE'), ('DEST', 'OP_CARRIER_AIRLINE_ID'), ('DEST', 'Airline_Name'), ('DEST', 'OP_CARRIER_FL_NUM'), ('DEST', 'ORIGIN'), ('DEST', 'DEST'), ('DEST', 'DELAY'), ('DEST', 'FL_DATE'), ('DELAY', 'OP_CARRIER_AIRLINE_ID'), ('DELAY', 'Airline_Name'), ('DELAY', 'OP_CARRIER_FL_NUM'), ('DELAY', 'ORIGIN'), ('DELAY', 'DEST'), ('DELAY', 'DELAY'), ('DELAY', 'FL_DATE'), ('FL_DATE', 'OP_CARRIER_AIRLINE_ID'), ('FL_DATE', 'Airline_Name'), ('FL_DATE', 'OP_CARRIER_FL_NUM'), ('FL_DATE', 'ORIGIN'), ('FL_DATE', 'DEST'), ('FL_DATE', 'DELAY'), ('FL_DATE', 'FL_DATE')]\n",
            "49\n"
          ]
        }
      ],
      "source": [
        "## Determine All Unique Products of the Categories to Determine Number of Chi-Squared\n",
        "cat_var1 = AL_cat.columns\n",
        "cat_var2 = AL_cat.columns\n",
        "cat_var_prod = list(product(cat_var1,cat_var2, repeat = 1))\n",
        "print(cat_var_prod)\n",
        "print(len(cat_var_prod))"
      ],
      "id": "sB7WjkZOJ3O4"
    },
    {
      "cell_type": "code",
      "execution_count": null,
      "metadata": {
        "colab": {
          "base_uri": "https://localhost:8080/"
        },
        "id": "2_lXRhXYKkrR",
        "outputId": "f277b569-6e71-47ee-ecb8-66151ca782e6"
      },
      "outputs": [
        {
          "output_type": "stream",
          "name": "stdout",
          "text": [
            "[('OP_CARRIER_AIRLINE_ID', 'Airline_Name', 0.0), ('OP_CARRIER_AIRLINE_ID', 'OP_CARRIER_FL_NUM', 0.0), ('OP_CARRIER_AIRLINE_ID', 'ORIGIN', 0.0), ('OP_CARRIER_AIRLINE_ID', 'DEST', 0.0), ('OP_CARRIER_AIRLINE_ID', 'DELAY', 0.0), ('OP_CARRIER_AIRLINE_ID', 'FL_DATE', 8.0084314112499e-178), ('Airline_Name', 'OP_CARRIER_AIRLINE_ID', 0.0), ('Airline_Name', 'OP_CARRIER_FL_NUM', 0.0), ('Airline_Name', 'ORIGIN', 0.0), ('Airline_Name', 'DEST', 0.0), ('Airline_Name', 'DELAY', 0.0), ('Airline_Name', 'FL_DATE', 1.0), ('OP_CARRIER_FL_NUM', 'OP_CARRIER_AIRLINE_ID', 0.0), ('OP_CARRIER_FL_NUM', 'Airline_Name', 0.0), ('OP_CARRIER_FL_NUM', 'ORIGIN', 0.0), ('OP_CARRIER_FL_NUM', 'DEST', 0.0), ('OP_CARRIER_FL_NUM', 'DELAY', 0.0), ('OP_CARRIER_FL_NUM', 'FL_DATE', 1.0), ('ORIGIN', 'OP_CARRIER_AIRLINE_ID', 0.0), ('ORIGIN', 'Airline_Name', 0.0), ('ORIGIN', 'OP_CARRIER_FL_NUM', 0.0), ('ORIGIN', 'DEST', 0.0), ('ORIGIN', 'DELAY', 0.0), ('ORIGIN', 'FL_DATE', 1.0), ('DEST', 'OP_CARRIER_AIRLINE_ID', 0.0), ('DEST', 'Airline_Name', 0.0), ('DEST', 'OP_CARRIER_FL_NUM', 0.0), ('DEST', 'ORIGIN', 0.0), ('DEST', 'DELAY', 0.0), ('DEST', 'FL_DATE', 1.0), ('DELAY', 'OP_CARRIER_AIRLINE_ID', 0.0), ('DELAY', 'Airline_Name', 0.0), ('DELAY', 'OP_CARRIER_FL_NUM', 0.0), ('DELAY', 'ORIGIN', 0.0), ('DELAY', 'DEST', 0.0), ('DELAY', 'FL_DATE', 0.0), ('FL_DATE', 'OP_CARRIER_AIRLINE_ID', 8.008431411246251e-178), ('FL_DATE', 'Airline_Name', 1.0), ('FL_DATE', 'OP_CARRIER_FL_NUM', 1.0), ('FL_DATE', 'ORIGIN', 1.0), ('FL_DATE', 'DEST', 1.0), ('FL_DATE', 'DELAY', 0.0)]\n"
          ]
        }
      ],
      "source": [
        "## Run Chi-Sqaured\n",
        "result = []\n",
        "for prod in cat_var_prod:\n",
        "  if prod[0] != prod[1]: # Ignore Same Pairing Product\n",
        "    result.append((prod[0],prod[1],list(ss.chi2_contingency(pd.crosstab(AL_cat[prod[0]], AL_cat[prod[1]])))[1]))\n",
        "\n",
        "print(result)"
      ],
      "id": "2_lXRhXYKkrR"
    },
    {
      "cell_type": "code",
      "execution_count": null,
      "metadata": {
        "colab": {
          "base_uri": "https://localhost:8080/",
          "height": 300
        },
        "id": "olZ8Ypf9Mvg5",
        "outputId": "3cb72709-d52d-4a07-b7da-bd4efc8c1ce8"
      },
      "outputs": [
        {
          "output_type": "execute_result",
          "data": {
            "text/plain": [
              "var2                   Airline_Name  DELAY  DEST        FL_DATE  \\\n",
              "var1                                                              \n",
              "Airline_Name                    NaN    0.0   0.0   1.000000e+00   \n",
              "DELAY                           0.0    NaN   0.0   0.000000e+00   \n",
              "DEST                            0.0    0.0   NaN   1.000000e+00   \n",
              "FL_DATE                         1.0    0.0   1.0            NaN   \n",
              "OP_CARRIER_AIRLINE_ID           0.0    0.0   0.0  8.008431e-178   \n",
              "OP_CARRIER_FL_NUM               0.0    0.0   0.0   1.000000e+00   \n",
              "ORIGIN                          0.0    0.0   0.0   1.000000e+00   \n",
              "\n",
              "var2                   OP_CARRIER_AIRLINE_ID  OP_CARRIER_FL_NUM  ORIGIN  \n",
              "var1                                                                     \n",
              "Airline_Name                    0.000000e+00                0.0     0.0  \n",
              "DELAY                           0.000000e+00                0.0     0.0  \n",
              "DEST                            0.000000e+00                0.0     0.0  \n",
              "FL_DATE                        8.008431e-178                1.0     1.0  \n",
              "OP_CARRIER_AIRLINE_ID                    NaN                0.0     0.0  \n",
              "OP_CARRIER_FL_NUM               0.000000e+00                NaN     0.0  \n",
              "ORIGIN                          0.000000e+00                0.0     NaN  "
            ],
            "text/html": [
              "\n",
              "  <div id=\"df-977647bd-de5f-4136-91f5-b54e0fa38eaa\">\n",
              "    <div class=\"colab-df-container\">\n",
              "      <div>\n",
              "<style scoped>\n",
              "    .dataframe tbody tr th:only-of-type {\n",
              "        vertical-align: middle;\n",
              "    }\n",
              "\n",
              "    .dataframe tbody tr th {\n",
              "        vertical-align: top;\n",
              "    }\n",
              "\n",
              "    .dataframe thead th {\n",
              "        text-align: right;\n",
              "    }\n",
              "</style>\n",
              "<table border=\"1\" class=\"dataframe\">\n",
              "  <thead>\n",
              "    <tr style=\"text-align: right;\">\n",
              "      <th>var2</th>\n",
              "      <th>Airline_Name</th>\n",
              "      <th>DELAY</th>\n",
              "      <th>DEST</th>\n",
              "      <th>FL_DATE</th>\n",
              "      <th>OP_CARRIER_AIRLINE_ID</th>\n",
              "      <th>OP_CARRIER_FL_NUM</th>\n",
              "      <th>ORIGIN</th>\n",
              "    </tr>\n",
              "    <tr>\n",
              "      <th>var1</th>\n",
              "      <th></th>\n",
              "      <th></th>\n",
              "      <th></th>\n",
              "      <th></th>\n",
              "      <th></th>\n",
              "      <th></th>\n",
              "      <th></th>\n",
              "    </tr>\n",
              "  </thead>\n",
              "  <tbody>\n",
              "    <tr>\n",
              "      <th>Airline_Name</th>\n",
              "      <td>NaN</td>\n",
              "      <td>0.0</td>\n",
              "      <td>0.0</td>\n",
              "      <td>1.000000e+00</td>\n",
              "      <td>0.000000e+00</td>\n",
              "      <td>0.0</td>\n",
              "      <td>0.0</td>\n",
              "    </tr>\n",
              "    <tr>\n",
              "      <th>DELAY</th>\n",
              "      <td>0.0</td>\n",
              "      <td>NaN</td>\n",
              "      <td>0.0</td>\n",
              "      <td>0.000000e+00</td>\n",
              "      <td>0.000000e+00</td>\n",
              "      <td>0.0</td>\n",
              "      <td>0.0</td>\n",
              "    </tr>\n",
              "    <tr>\n",
              "      <th>DEST</th>\n",
              "      <td>0.0</td>\n",
              "      <td>0.0</td>\n",
              "      <td>NaN</td>\n",
              "      <td>1.000000e+00</td>\n",
              "      <td>0.000000e+00</td>\n",
              "      <td>0.0</td>\n",
              "      <td>0.0</td>\n",
              "    </tr>\n",
              "    <tr>\n",
              "      <th>FL_DATE</th>\n",
              "      <td>1.0</td>\n",
              "      <td>0.0</td>\n",
              "      <td>1.0</td>\n",
              "      <td>NaN</td>\n",
              "      <td>8.008431e-178</td>\n",
              "      <td>1.0</td>\n",
              "      <td>1.0</td>\n",
              "    </tr>\n",
              "    <tr>\n",
              "      <th>OP_CARRIER_AIRLINE_ID</th>\n",
              "      <td>0.0</td>\n",
              "      <td>0.0</td>\n",
              "      <td>0.0</td>\n",
              "      <td>8.008431e-178</td>\n",
              "      <td>NaN</td>\n",
              "      <td>0.0</td>\n",
              "      <td>0.0</td>\n",
              "    </tr>\n",
              "    <tr>\n",
              "      <th>OP_CARRIER_FL_NUM</th>\n",
              "      <td>0.0</td>\n",
              "      <td>0.0</td>\n",
              "      <td>0.0</td>\n",
              "      <td>1.000000e+00</td>\n",
              "      <td>0.000000e+00</td>\n",
              "      <td>NaN</td>\n",
              "      <td>0.0</td>\n",
              "    </tr>\n",
              "    <tr>\n",
              "      <th>ORIGIN</th>\n",
              "      <td>0.0</td>\n",
              "      <td>0.0</td>\n",
              "      <td>0.0</td>\n",
              "      <td>1.000000e+00</td>\n",
              "      <td>0.000000e+00</td>\n",
              "      <td>0.0</td>\n",
              "      <td>NaN</td>\n",
              "    </tr>\n",
              "  </tbody>\n",
              "</table>\n",
              "</div>\n",
              "      <button class=\"colab-df-convert\" onclick=\"convertToInteractive('df-977647bd-de5f-4136-91f5-b54e0fa38eaa')\"\n",
              "              title=\"Convert this dataframe to an interactive table.\"\n",
              "              style=\"display:none;\">\n",
              "        \n",
              "  <svg xmlns=\"http://www.w3.org/2000/svg\" height=\"24px\"viewBox=\"0 0 24 24\"\n",
              "       width=\"24px\">\n",
              "    <path d=\"M0 0h24v24H0V0z\" fill=\"none\"/>\n",
              "    <path d=\"M18.56 5.44l.94 2.06.94-2.06 2.06-.94-2.06-.94-.94-2.06-.94 2.06-2.06.94zm-11 1L8.5 8.5l.94-2.06 2.06-.94-2.06-.94L8.5 2.5l-.94 2.06-2.06.94zm10 10l.94 2.06.94-2.06 2.06-.94-2.06-.94-.94-2.06-.94 2.06-2.06.94z\"/><path d=\"M17.41 7.96l-1.37-1.37c-.4-.4-.92-.59-1.43-.59-.52 0-1.04.2-1.43.59L10.3 9.45l-7.72 7.72c-.78.78-.78 2.05 0 2.83L4 21.41c.39.39.9.59 1.41.59.51 0 1.02-.2 1.41-.59l7.78-7.78 2.81-2.81c.8-.78.8-2.07 0-2.86zM5.41 20L4 18.59l7.72-7.72 1.47 1.35L5.41 20z\"/>\n",
              "  </svg>\n",
              "      </button>\n",
              "      \n",
              "  <style>\n",
              "    .colab-df-container {\n",
              "      display:flex;\n",
              "      flex-wrap:wrap;\n",
              "      gap: 12px;\n",
              "    }\n",
              "\n",
              "    .colab-df-convert {\n",
              "      background-color: #E8F0FE;\n",
              "      border: none;\n",
              "      border-radius: 50%;\n",
              "      cursor: pointer;\n",
              "      display: none;\n",
              "      fill: #1967D2;\n",
              "      height: 32px;\n",
              "      padding: 0 0 0 0;\n",
              "      width: 32px;\n",
              "    }\n",
              "\n",
              "    .colab-df-convert:hover {\n",
              "      background-color: #E2EBFA;\n",
              "      box-shadow: 0px 1px 2px rgba(60, 64, 67, 0.3), 0px 1px 3px 1px rgba(60, 64, 67, 0.15);\n",
              "      fill: #174EA6;\n",
              "    }\n",
              "\n",
              "    [theme=dark] .colab-df-convert {\n",
              "      background-color: #3B4455;\n",
              "      fill: #D2E3FC;\n",
              "    }\n",
              "\n",
              "    [theme=dark] .colab-df-convert:hover {\n",
              "      background-color: #434B5C;\n",
              "      box-shadow: 0px 1px 3px 1px rgba(0, 0, 0, 0.15);\n",
              "      filter: drop-shadow(0px 1px 2px rgba(0, 0, 0, 0.3));\n",
              "      fill: #FFFFFF;\n",
              "    }\n",
              "  </style>\n",
              "\n",
              "      <script>\n",
              "        const buttonEl =\n",
              "          document.querySelector('#df-977647bd-de5f-4136-91f5-b54e0fa38eaa button.colab-df-convert');\n",
              "        buttonEl.style.display =\n",
              "          google.colab.kernel.accessAllowed ? 'block' : 'none';\n",
              "\n",
              "        async function convertToInteractive(key) {\n",
              "          const element = document.querySelector('#df-977647bd-de5f-4136-91f5-b54e0fa38eaa');\n",
              "          const dataTable =\n",
              "            await google.colab.kernel.invokeFunction('convertToInteractive',\n",
              "                                                     [key], {});\n",
              "          if (!dataTable) return;\n",
              "\n",
              "          const docLinkHtml = 'Like what you see? Visit the ' +\n",
              "            '<a target=\"_blank\" href=https://colab.research.google.com/notebooks/data_table.ipynb>data table notebook</a>'\n",
              "            + ' to learn more about interactive tables.';\n",
              "          element.innerHTML = '';\n",
              "          dataTable['output_type'] = 'display_data';\n",
              "          await google.colab.output.renderOutput(dataTable, element);\n",
              "          const docLink = document.createElement('div');\n",
              "          docLink.innerHTML = docLinkHtml;\n",
              "          element.appendChild(docLink);\n",
              "        }\n",
              "      </script>\n",
              "    </div>\n",
              "  </div>\n",
              "  "
            ]
          },
          "metadata": {},
          "execution_count": 296
        }
      ],
      "source": [
        "chi_test_output = pd.DataFrame(result, columns = ['var1', 'var2', 'coeff'])\n",
        "## Using pivot function to convert the above DataFrame into a crosstab\n",
        "chi_test_output.pivot(index='var1', columns='var2', values='coeff')"
      ],
      "id": "olZ8Ypf9Mvg5"
    },
    {
      "cell_type": "code",
      "execution_count": null,
      "metadata": {
        "colab": {
          "base_uri": "https://localhost:8080/"
        },
        "id": "BVTx4dYZO7JT",
        "outputId": "353b5e47-33e1-42d4-c00c-7a8d9814d8be"
      },
      "outputs": [
        {
          "output_type": "stream",
          "name": "stdout",
          "text": [
            "   CRS_DEP_TIME  DEP_TIME  DELAY  ARR_TIME  CRS_ELAPSED_TIME  \\\n",
            "0          1640    1649.0   True    2006.0             342.0   \n",
            "1          1512    1541.0   True    2350.0             285.0   \n",
            "2           744     741.0  False     938.0             176.0   \n",
            "3           900     944.0   True    1347.0             304.0   \n",
            "4           600     556.0  False     951.0             173.0   \n",
            "\n",
            "   ACTUAL_ELAPSED_TIME  \n",
            "0                377.0  \n",
            "1                309.0  \n",
            "2                177.0  \n",
            "3                303.0  \n",
            "4                175.0  \n",
            "[('CRS_DEP_TIME', 'DELAY'), ('DEP_TIME', 'DELAY'), ('ARR_TIME', 'DELAY'), ('CRS_ELAPSED_TIME', 'DELAY'), ('ACTUAL_ELAPSED_TIME', 'DELAY')]\n",
            "5\n"
          ]
        }
      ],
      "source": [
        "## Determine Correlation Between Parameters and the Categorical Target, Delay\n",
        "import scipy.stats as ss\n",
        "from itertools import product\n",
        "\n",
        "cat_continous_columns = ['CRS_DEP_TIME', 'DEP_TIME', 'DELAY', 'ARR_TIME', 'CRS_ELAPSED_TIME', 'ACTUAL_ELAPSED_TIME']\n",
        "AL_con_cat = AL[cat_continous_columns]\n",
        "print(AL_con_cat.head())\n",
        "\n",
        "con_var1 = ['CRS_DEP_TIME', 'DEP_TIME', 'ARR_TIME', 'CRS_ELAPSED_TIME', 'ACTUAL_ELAPSED_TIME']\n",
        "cat_var1 = ['DELAY']\n",
        "cat_con_prod = list(product(con_var1,cat_var1, repeat = 1))\n",
        "print(cat_con_prod)\n",
        "print(len(cat_con_prod))"
      ],
      "id": "BVTx4dYZO7JT"
    },
    {
      "cell_type": "code",
      "execution_count": null,
      "metadata": {
        "colab": {
          "base_uri": "https://localhost:8080/"
        },
        "id": "pPRJOUe9Q6Cz",
        "outputId": "90597c21-018b-402f-8670-867742e62369"
      },
      "outputs": [
        {
          "output_type": "stream",
          "name": "stdout",
          "text": [
            "[('CRS_DEP_TIME', 'DELAY', 0.2236207231148967), ('DEP_TIME', 'DELAY', 0.25931026809837837), ('ARR_TIME', 'DELAY', 0.14345294761273386), ('CRS_ELAPSED_TIME', 'DELAY', 0.0689241397249276), ('ACTUAL_ELAPSED_TIME', 'DELAY', 0.07509738742446118)]\n"
          ]
        }
      ],
      "source": [
        "## Find Correlation Between Categorical (Delay) and Continous Variables\n",
        "result = []\n",
        "for prod in cat_con_prod:\n",
        "  result.append((prod[0],prod[1], AL_con_cat[prod[0]].corr(AL_con_cat[prod[1]])))\n",
        "\n",
        "print(result)"
      ],
      "id": "pPRJOUe9Q6Cz"
    },
    {
      "cell_type": "code",
      "execution_count": null,
      "metadata": {
        "colab": {
          "base_uri": "https://localhost:8080/",
          "height": 237
        },
        "id": "zOh3vEPkSzft",
        "outputId": "70ea5b7f-9c7d-4bd3-bc82-12d8f82717d5"
      },
      "outputs": [
        {
          "output_type": "execute_result",
          "data": {
            "text/plain": [
              "var2                    DELAY\n",
              "var1                         \n",
              "ACTUAL_ELAPSED_TIME  0.075097\n",
              "ARR_TIME             0.143453\n",
              "CRS_DEP_TIME         0.223621\n",
              "CRS_ELAPSED_TIME     0.068924\n",
              "DEP_TIME             0.259310"
            ],
            "text/html": [
              "\n",
              "  <div id=\"df-6f9344b5-5522-44ca-bfa1-20619df48c1b\">\n",
              "    <div class=\"colab-df-container\">\n",
              "      <div>\n",
              "<style scoped>\n",
              "    .dataframe tbody tr th:only-of-type {\n",
              "        vertical-align: middle;\n",
              "    }\n",
              "\n",
              "    .dataframe tbody tr th {\n",
              "        vertical-align: top;\n",
              "    }\n",
              "\n",
              "    .dataframe thead th {\n",
              "        text-align: right;\n",
              "    }\n",
              "</style>\n",
              "<table border=\"1\" class=\"dataframe\">\n",
              "  <thead>\n",
              "    <tr style=\"text-align: right;\">\n",
              "      <th>var2</th>\n",
              "      <th>DELAY</th>\n",
              "    </tr>\n",
              "    <tr>\n",
              "      <th>var1</th>\n",
              "      <th></th>\n",
              "    </tr>\n",
              "  </thead>\n",
              "  <tbody>\n",
              "    <tr>\n",
              "      <th>ACTUAL_ELAPSED_TIME</th>\n",
              "      <td>0.075097</td>\n",
              "    </tr>\n",
              "    <tr>\n",
              "      <th>ARR_TIME</th>\n",
              "      <td>0.143453</td>\n",
              "    </tr>\n",
              "    <tr>\n",
              "      <th>CRS_DEP_TIME</th>\n",
              "      <td>0.223621</td>\n",
              "    </tr>\n",
              "    <tr>\n",
              "      <th>CRS_ELAPSED_TIME</th>\n",
              "      <td>0.068924</td>\n",
              "    </tr>\n",
              "    <tr>\n",
              "      <th>DEP_TIME</th>\n",
              "      <td>0.259310</td>\n",
              "    </tr>\n",
              "  </tbody>\n",
              "</table>\n",
              "</div>\n",
              "      <button class=\"colab-df-convert\" onclick=\"convertToInteractive('df-6f9344b5-5522-44ca-bfa1-20619df48c1b')\"\n",
              "              title=\"Convert this dataframe to an interactive table.\"\n",
              "              style=\"display:none;\">\n",
              "        \n",
              "  <svg xmlns=\"http://www.w3.org/2000/svg\" height=\"24px\"viewBox=\"0 0 24 24\"\n",
              "       width=\"24px\">\n",
              "    <path d=\"M0 0h24v24H0V0z\" fill=\"none\"/>\n",
              "    <path d=\"M18.56 5.44l.94 2.06.94-2.06 2.06-.94-2.06-.94-.94-2.06-.94 2.06-2.06.94zm-11 1L8.5 8.5l.94-2.06 2.06-.94-2.06-.94L8.5 2.5l-.94 2.06-2.06.94zm10 10l.94 2.06.94-2.06 2.06-.94-2.06-.94-.94-2.06-.94 2.06-2.06.94z\"/><path d=\"M17.41 7.96l-1.37-1.37c-.4-.4-.92-.59-1.43-.59-.52 0-1.04.2-1.43.59L10.3 9.45l-7.72 7.72c-.78.78-.78 2.05 0 2.83L4 21.41c.39.39.9.59 1.41.59.51 0 1.02-.2 1.41-.59l7.78-7.78 2.81-2.81c.8-.78.8-2.07 0-2.86zM5.41 20L4 18.59l7.72-7.72 1.47 1.35L5.41 20z\"/>\n",
              "  </svg>\n",
              "      </button>\n",
              "      \n",
              "  <style>\n",
              "    .colab-df-container {\n",
              "      display:flex;\n",
              "      flex-wrap:wrap;\n",
              "      gap: 12px;\n",
              "    }\n",
              "\n",
              "    .colab-df-convert {\n",
              "      background-color: #E8F0FE;\n",
              "      border: none;\n",
              "      border-radius: 50%;\n",
              "      cursor: pointer;\n",
              "      display: none;\n",
              "      fill: #1967D2;\n",
              "      height: 32px;\n",
              "      padding: 0 0 0 0;\n",
              "      width: 32px;\n",
              "    }\n",
              "\n",
              "    .colab-df-convert:hover {\n",
              "      background-color: #E2EBFA;\n",
              "      box-shadow: 0px 1px 2px rgba(60, 64, 67, 0.3), 0px 1px 3px 1px rgba(60, 64, 67, 0.15);\n",
              "      fill: #174EA6;\n",
              "    }\n",
              "\n",
              "    [theme=dark] .colab-df-convert {\n",
              "      background-color: #3B4455;\n",
              "      fill: #D2E3FC;\n",
              "    }\n",
              "\n",
              "    [theme=dark] .colab-df-convert:hover {\n",
              "      background-color: #434B5C;\n",
              "      box-shadow: 0px 1px 3px 1px rgba(0, 0, 0, 0.15);\n",
              "      filter: drop-shadow(0px 1px 2px rgba(0, 0, 0, 0.3));\n",
              "      fill: #FFFFFF;\n",
              "    }\n",
              "  </style>\n",
              "\n",
              "      <script>\n",
              "        const buttonEl =\n",
              "          document.querySelector('#df-6f9344b5-5522-44ca-bfa1-20619df48c1b button.colab-df-convert');\n",
              "        buttonEl.style.display =\n",
              "          google.colab.kernel.accessAllowed ? 'block' : 'none';\n",
              "\n",
              "        async function convertToInteractive(key) {\n",
              "          const element = document.querySelector('#df-6f9344b5-5522-44ca-bfa1-20619df48c1b');\n",
              "          const dataTable =\n",
              "            await google.colab.kernel.invokeFunction('convertToInteractive',\n",
              "                                                     [key], {});\n",
              "          if (!dataTable) return;\n",
              "\n",
              "          const docLinkHtml = 'Like what you see? Visit the ' +\n",
              "            '<a target=\"_blank\" href=https://colab.research.google.com/notebooks/data_table.ipynb>data table notebook</a>'\n",
              "            + ' to learn more about interactive tables.';\n",
              "          element.innerHTML = '';\n",
              "          dataTable['output_type'] = 'display_data';\n",
              "          await google.colab.output.renderOutput(dataTable, element);\n",
              "          const docLink = document.createElement('div');\n",
              "          docLink.innerHTML = docLinkHtml;\n",
              "          element.appendChild(docLink);\n",
              "        }\n",
              "      </script>\n",
              "    </div>\n",
              "  </div>\n",
              "  "
            ]
          },
          "metadata": {},
          "execution_count": 299
        }
      ],
      "source": [
        "corr_output = pd.DataFrame(result, columns = ['var1', 'var2', 'coeff'])\n",
        "## Using pivot function to convert the above DataFrame into a crosstab\n",
        "corr_output.pivot(index='var1', columns='var2', values='coeff')"
      ],
      "id": "zOh3vEPkSzft"
    },
    {
      "cell_type": "code",
      "execution_count": null,
      "metadata": {
        "colab": {
          "base_uri": "https://localhost:8080/"
        },
        "id": "5-EUGXEBeDy9",
        "outputId": "7623db28-39d4-4228-f251-a3b68d8f76e1"
      },
      "outputs": [
        {
          "output_type": "stream",
          "name": "stdout",
          "text": [
            "      FL_DATE  OP_CARRIER_AIRLINE_ID  Airline_Name  OP_CARRIER_FL_NUM  ORIGIN  \\\n",
            "0  2018-08-01                      4          5444               1584     179   \n",
            "1  2018-08-01                      4          5599               1585     265   \n",
            "2  2018-08-01                      4          4850               1587      70   \n",
            "3  2018-08-01                      4          4662               1588     322   \n",
            "4  2018-08-01                      4          4880               1590      24   \n",
            "\n",
            "   DEST  CRS_DEP_TIME  DEP_TIME  DELAY  ARR_TIME  CRS_ELAPSED_TIME  \\\n",
            "0   265          1640    1649.0   True    2006.0             342.0   \n",
            "1   114          1512    1541.0   True    2350.0             285.0   \n",
            "2    92           744     741.0  False     938.0             176.0   \n",
            "3    92           900     944.0   True    1347.0             304.0   \n",
            "4   223           600     556.0  False     951.0             173.0   \n",
            "\n",
            "   ACTUAL_ELAPSED_TIME Day_of_Week  \n",
            "0                377.0   Wednesday  \n",
            "1                309.0   Wednesday  \n",
            "2                177.0   Wednesday  \n",
            "3                303.0   Wednesday  \n",
            "4                175.0   Wednesday  \n",
            "      FL_DATE  OP_CARRIER_AIRLINE_ID  Airline_Name  OP_CARRIER_FL_NUM  ORIGIN  \\\n",
            "0  2018-08-01                      4          5444               1584     179   \n",
            "1  2018-08-01                      4          5599               1585     265   \n",
            "2  2018-08-01                      4          4850               1587      70   \n",
            "3  2018-08-01                      4          4662               1588     322   \n",
            "4  2018-08-01                      4          4880               1590      24   \n",
            "\n",
            "   DEST  CRS_DEP_TIME  DEP_TIME  DELAY  ARR_TIME  CRS_ELAPSED_TIME  \\\n",
            "0   265          1640    1649.0   True    2006.0             342.0   \n",
            "1   114          1512    1541.0   True    2350.0             285.0   \n",
            "2    92           744     741.0  False     938.0             176.0   \n",
            "3    92           900     944.0   True    1347.0             304.0   \n",
            "4   223           600     556.0  False     951.0             173.0   \n",
            "\n",
            "   ACTUAL_ELAPSED_TIME  Day_of_Week  \n",
            "0                377.0            6  \n",
            "1                309.0            6  \n",
            "2                177.0            6  \n",
            "3                303.0            6  \n",
            "4                175.0            6  \n"
          ]
        }
      ],
      "source": [
        "## Adding Categorical Column Day of the Week\n",
        "AL['Day_of_Week'] = pd.to_datetime(AL['FL_DATE']).dt.day_name()\n",
        "print(AL.head())\n",
        "\n",
        "## Label Encode\n",
        "AL['Day_of_Week']= label_encoder.fit_transform(AL['Day_of_Week'])\n",
        "\n",
        "print(AL.head())"
      ],
      "id": "5-EUGXEBeDy9"
    },
    {
      "cell_type": "code",
      "execution_count": null,
      "metadata": {
        "colab": {
          "base_uri": "https://localhost:8080/",
          "height": 112
        },
        "id": "tFH5BtvBeFyO",
        "outputId": "9385a71a-53d0-4c27-a8e0-15394911d9e0"
      },
      "outputs": [
        {
          "output_type": "execute_result",
          "data": {
            "text/plain": [
              "var2                DELAY\n",
              "var1                     \n",
              "Day_of_Week  5.772988e-81"
            ],
            "text/html": [
              "\n",
              "  <div id=\"df-157926d9-6e27-42ab-9fdc-91dea9955644\">\n",
              "    <div class=\"colab-df-container\">\n",
              "      <div>\n",
              "<style scoped>\n",
              "    .dataframe tbody tr th:only-of-type {\n",
              "        vertical-align: middle;\n",
              "    }\n",
              "\n",
              "    .dataframe tbody tr th {\n",
              "        vertical-align: top;\n",
              "    }\n",
              "\n",
              "    .dataframe thead th {\n",
              "        text-align: right;\n",
              "    }\n",
              "</style>\n",
              "<table border=\"1\" class=\"dataframe\">\n",
              "  <thead>\n",
              "    <tr style=\"text-align: right;\">\n",
              "      <th>var2</th>\n",
              "      <th>DELAY</th>\n",
              "    </tr>\n",
              "    <tr>\n",
              "      <th>var1</th>\n",
              "      <th></th>\n",
              "    </tr>\n",
              "  </thead>\n",
              "  <tbody>\n",
              "    <tr>\n",
              "      <th>Day_of_Week</th>\n",
              "      <td>5.772988e-81</td>\n",
              "    </tr>\n",
              "  </tbody>\n",
              "</table>\n",
              "</div>\n",
              "      <button class=\"colab-df-convert\" onclick=\"convertToInteractive('df-157926d9-6e27-42ab-9fdc-91dea9955644')\"\n",
              "              title=\"Convert this dataframe to an interactive table.\"\n",
              "              style=\"display:none;\">\n",
              "        \n",
              "  <svg xmlns=\"http://www.w3.org/2000/svg\" height=\"24px\"viewBox=\"0 0 24 24\"\n",
              "       width=\"24px\">\n",
              "    <path d=\"M0 0h24v24H0V0z\" fill=\"none\"/>\n",
              "    <path d=\"M18.56 5.44l.94 2.06.94-2.06 2.06-.94-2.06-.94-.94-2.06-.94 2.06-2.06.94zm-11 1L8.5 8.5l.94-2.06 2.06-.94-2.06-.94L8.5 2.5l-.94 2.06-2.06.94zm10 10l.94 2.06.94-2.06 2.06-.94-2.06-.94-.94-2.06-.94 2.06-2.06.94z\"/><path d=\"M17.41 7.96l-1.37-1.37c-.4-.4-.92-.59-1.43-.59-.52 0-1.04.2-1.43.59L10.3 9.45l-7.72 7.72c-.78.78-.78 2.05 0 2.83L4 21.41c.39.39.9.59 1.41.59.51 0 1.02-.2 1.41-.59l7.78-7.78 2.81-2.81c.8-.78.8-2.07 0-2.86zM5.41 20L4 18.59l7.72-7.72 1.47 1.35L5.41 20z\"/>\n",
              "  </svg>\n",
              "      </button>\n",
              "      \n",
              "  <style>\n",
              "    .colab-df-container {\n",
              "      display:flex;\n",
              "      flex-wrap:wrap;\n",
              "      gap: 12px;\n",
              "    }\n",
              "\n",
              "    .colab-df-convert {\n",
              "      background-color: #E8F0FE;\n",
              "      border: none;\n",
              "      border-radius: 50%;\n",
              "      cursor: pointer;\n",
              "      display: none;\n",
              "      fill: #1967D2;\n",
              "      height: 32px;\n",
              "      padding: 0 0 0 0;\n",
              "      width: 32px;\n",
              "    }\n",
              "\n",
              "    .colab-df-convert:hover {\n",
              "      background-color: #E2EBFA;\n",
              "      box-shadow: 0px 1px 2px rgba(60, 64, 67, 0.3), 0px 1px 3px 1px rgba(60, 64, 67, 0.15);\n",
              "      fill: #174EA6;\n",
              "    }\n",
              "\n",
              "    [theme=dark] .colab-df-convert {\n",
              "      background-color: #3B4455;\n",
              "      fill: #D2E3FC;\n",
              "    }\n",
              "\n",
              "    [theme=dark] .colab-df-convert:hover {\n",
              "      background-color: #434B5C;\n",
              "      box-shadow: 0px 1px 3px 1px rgba(0, 0, 0, 0.15);\n",
              "      filter: drop-shadow(0px 1px 2px rgba(0, 0, 0, 0.3));\n",
              "      fill: #FFFFFF;\n",
              "    }\n",
              "  </style>\n",
              "\n",
              "      <script>\n",
              "        const buttonEl =\n",
              "          document.querySelector('#df-157926d9-6e27-42ab-9fdc-91dea9955644 button.colab-df-convert');\n",
              "        buttonEl.style.display =\n",
              "          google.colab.kernel.accessAllowed ? 'block' : 'none';\n",
              "\n",
              "        async function convertToInteractive(key) {\n",
              "          const element = document.querySelector('#df-157926d9-6e27-42ab-9fdc-91dea9955644');\n",
              "          const dataTable =\n",
              "            await google.colab.kernel.invokeFunction('convertToInteractive',\n",
              "                                                     [key], {});\n",
              "          if (!dataTable) return;\n",
              "\n",
              "          const docLinkHtml = 'Like what you see? Visit the ' +\n",
              "            '<a target=\"_blank\" href=https://colab.research.google.com/notebooks/data_table.ipynb>data table notebook</a>'\n",
              "            + ' to learn more about interactive tables.';\n",
              "          element.innerHTML = '';\n",
              "          dataTable['output_type'] = 'display_data';\n",
              "          await google.colab.output.renderOutput(dataTable, element);\n",
              "          const docLink = document.createElement('div');\n",
              "          docLink.innerHTML = docLinkHtml;\n",
              "          element.appendChild(docLink);\n",
              "        }\n",
              "      </script>\n",
              "    </div>\n",
              "  </div>\n",
              "  "
            ]
          },
          "metadata": {},
          "execution_count": 301
        }
      ],
      "source": [
        "# Preform Chi Squared on New Categorical Variable, Day of Week, with Delay\n",
        "cat_var_1 = ['Day_of_Week']\n",
        "cat_var_2 = ['DELAY']\n",
        "result = list()\n",
        "result.append((cat_var_1[0],cat_var_2[0],list(ss.chi2_contingency(pd.crosstab(AL[cat_var_1[0]], AL[cat_var_2[0]])))[1]))\n",
        "\n",
        "corr_output = pd.DataFrame(result, columns = ['var1', 'var2', 'coeff'])\n",
        "## Using pivot function to convert the above DataFrame into a crosstab\n",
        "corr_output.pivot(index='var1', columns='var2', values='coeff')\n"
      ],
      "id": "tFH5BtvBeFyO"
    },
    {
      "cell_type": "code",
      "execution_count": null,
      "metadata": {
        "colab": {
          "base_uri": "https://localhost:8080/"
        },
        "id": "x-Aw6JCeiShI",
        "outputId": "c3d1a8c8-0385-40c1-9f20-f484876b2ed0"
      },
      "outputs": [
        {
          "output_type": "stream",
          "name": "stdout",
          "text": [
            "Looking in indexes: https://pypi.org/simple, https://us-python.pkg.dev/colab-wheels/public/simple/\n",
            "Requirement already satisfied: airportsdata in /usr/local/lib/python3.9/dist-packages (20230408)\n",
            "Looking in indexes: https://pypi.org/simple, https://us-python.pkg.dev/colab-wheels/public/simple/\n",
            "Requirement already satisfied: meteostat in /usr/local/lib/python3.9/dist-packages (1.6.5)\n",
            "Requirement already satisfied: numpy in /usr/local/lib/python3.9/dist-packages (from meteostat) (1.22.4)\n",
            "Requirement already satisfied: pandas>=1.1 in /usr/local/lib/python3.9/dist-packages (from meteostat) (1.4.4)\n",
            "Requirement already satisfied: pytz in /usr/local/lib/python3.9/dist-packages (from meteostat) (2022.7.1)\n",
            "Requirement already satisfied: python-dateutil>=2.8.1 in /usr/local/lib/python3.9/dist-packages (from pandas>=1.1->meteostat) (2.8.2)\n",
            "Requirement already satisfied: six>=1.5 in /usr/local/lib/python3.9/dist-packages (from python-dateutil>=2.8.1->pandas>=1.1->meteostat) (1.16.0)\n"
          ]
        }
      ],
      "source": [
        "## Add Weather Parameters and Check Correlation Between Them and Delay\n",
        "!pip install airportsdata\n",
        "!pip install meteostat\n",
        "import airportsdata\n",
        "from meteostat import Point, Daily\n",
        "import datetime\n",
        "\n",
        "airports = airportsdata.load('IATA')\n",
        "\n",
        "def retrieve_weather_data(airport_code, date):\n",
        "  date = datetime.datetime.strptime(date, '%Y-%m-%d')\n",
        "\n",
        "  try:\n",
        "      airport_stats = airports[airport_code]\n",
        "  except KeyError:\n",
        "    return None\n",
        "\n",
        "  airport_lat = airport_stats['lat']\n",
        "  airport_lon = airport_stats['lon']\n",
        "\n",
        "  # Create Point for Airport\n",
        "  airport_point = Point(airport_lat, airport_lon)\n",
        "\n",
        "  # Get daily data for 2018\n",
        "  data_airport = Daily(airport_point, date, date)\n",
        "  data_airport = data_airport.fetch().reset_index()\n",
        "\n",
        "  return data_airport"
      ],
      "id": "x-Aw6JCeiShI"
    },
    {
      "cell_type": "code",
      "execution_count": null,
      "metadata": {
        "id": "YScBfdDIijjY"
      },
      "outputs": [],
      "source": [
        "## Create Lookup Dictionary\n",
        "unique_dates = AL['FL_DATE'].unique()\n",
        "\n",
        "date_airport_dict = dict()\n",
        "\n",
        "for date in unique_dates:\n",
        "  origin_dest = AL.loc[AL['FL_DATE'] == date, ['ORIGIN', 'DEST']]\n",
        "\n",
        "  origin_airports = list()\n",
        "  for origin in origin_dest['ORIGIN']:\n",
        "    origin_airports.append(origin_name_mapping[origin])\n",
        "\n",
        "  dest_airports = list()\n",
        "  for dest in origin_dest['DEST']:\n",
        "    dest_airports.append(dest_name_mapping[dest])\n",
        "  unique_airports = list(set(origin_airports + dest_airports))\n",
        "\n",
        "  date_airport_dict[date] = {}\n",
        "  for airport_IATA in unique_airports:\n",
        "    date_airport_dict[date][airport_IATA] = {}\n",
        "\n",
        "    weather_data = retrieve_weather_data(airport_IATA, date)\n",
        "    try:\n",
        "      date_airport_dict[date][airport_IATA]['TAVG'] = weather_data.iloc[0]['tavg']\n",
        "      date_airport_dict[date][airport_IATA]['SNOW'] = weather_data.iloc[0]['snow']\n",
        "      date_airport_dict[date][airport_IATA]['PRCP'] = weather_data.iloc[0]['prcp']\n",
        "      date_airport_dict[date][airport_IATA]['WSPD'] = weather_data.iloc[0]['wspd']\n",
        "      date_airport_dict[date][airport_IATA]['PRES'] = weather_data.iloc[0]['pres']\n",
        "    except:\n",
        "      date_airport_dict[date][airport_IATA]['TAVG'] = None\n",
        "      date_airport_dict[date][airport_IATA]['SNOW'] = None\n",
        "      date_airport_dict[date][airport_IATA]['PRCP'] = None\n",
        "      date_airport_dict[date][airport_IATA]['WSPD'] = None\n",
        "      date_airport_dict[date][airport_IATA]['PRES'] = None"
      ],
      "id": "YScBfdDIijjY"
    },
    {
      "cell_type": "code",
      "execution_count": null,
      "metadata": {
        "id": "64rIiBSSiqKo"
      },
      "outputs": [],
      "source": [
        "## Creation of the Weather Lists to Be Added to the DataFrame\n",
        "origin_temp = list()\n",
        "origin_wspd = list()\n",
        "origin_snow = list()\n",
        "origin_prcp = list()\n",
        "origin_pres = list()\n",
        "\n",
        "dest_temp = list()\n",
        "dest_wspd = list()\n",
        "dest_snow = list()\n",
        "dest_prcp = list()\n",
        "dest_pres = list()\n",
        "\n",
        "for date, origin, dest in zip(AL['FL_DATE'], AL['ORIGIN'], AL['DEST']):\n",
        "  origin_name = origin_name_mapping[origin]\n",
        "  dest_name = dest_name_mapping[dest]\n",
        "\n",
        "  ## Lookup the Date, Origin and Destination in the Previously Created Dictionary and Add the Appropriate Information to Their Respective Lists\n",
        "  date_dict_origin = date_airport_dict[date][origin_name]\n",
        "  date_dict_dest = date_airport_dict[date][dest_name]\n",
        "\n",
        "  origin_temp.append(date_dict_origin['TAVG'])\n",
        "  origin_wspd.append(date_dict_origin['WSPD'])\n",
        "  origin_snow.append(date_dict_origin['SNOW'])\n",
        "  origin_prcp.append(date_dict_origin['PRCP'])\n",
        "  origin_pres.append(date_dict_origin['PRES'])\n",
        "\n",
        "  dest_temp.append(date_dict_dest['TAVG'])\n",
        "  dest_wspd.append(date_dict_dest['WSPD'])\n",
        "  dest_snow.append(date_dict_dest['SNOW'])\n",
        "  dest_prcp.append(date_dict_dest['PRCP'])\n",
        "  dest_pres.append(date_dict_dest['PRES'])\n",
        "\n",
        "AL['ORIGIN_TAVG'] = origin_temp\n",
        "AL['ORIGIN_WSPD'] = origin_wspd\n",
        "AL['ORIGIN_SNOW'] = origin_snow\n",
        "AL['ORIGIN_PRCP'] = origin_prcp\n",
        "AL['ORIGIN_PRES'] = origin_pres\n",
        "\n",
        "AL['DEST_TAVG'] = dest_temp\n",
        "AL['DEST_WSPD'] = dest_wspd\n",
        "AL['DEST_SNOW'] = dest_snow\n",
        "AL['DEST_PRCP'] = dest_prcp\n",
        "AL['DEST_PRES'] = dest_pres"
      ],
      "id": "64rIiBSSiqKo"
    },
    {
      "cell_type": "code",
      "execution_count": null,
      "metadata": {
        "colab": {
          "base_uri": "https://localhost:8080/"
        },
        "id": "0AxMRaD4ix0H",
        "outputId": "82b8088b-f15d-4194-90c6-476938aedfb8"
      },
      "outputs": [
        {
          "output_type": "stream",
          "name": "stdout",
          "text": [
            "      FL_DATE  OP_CARRIER_AIRLINE_ID  Airline_Name  OP_CARRIER_FL_NUM  ORIGIN  \\\n",
            "0  2018-08-01                      4          5444               1584     179   \n",
            "1  2018-08-01                      4          5599               1585     265   \n",
            "2  2018-08-01                      4          4850               1587      70   \n",
            "3  2018-08-01                      4          4662               1588     322   \n",
            "4  2018-08-01                      4          4880               1590      24   \n",
            "\n",
            "   DEST  CRS_DEP_TIME  DEP_TIME  DELAY  ARR_TIME  ...  ORIGIN_TAVG  \\\n",
            "0   265          1640    1649.0   True    2006.0  ...         25.4   \n",
            "1   114          1512    1541.0   True    2350.0  ...         37.5   \n",
            "2    92           744     741.0  False     938.0  ...         22.9   \n",
            "3    92           900     944.0   True    1347.0  ...         27.7   \n",
            "4   223           600     556.0  False     951.0  ...         28.9   \n",
            "\n",
            "   ORIGIN_WSPD  ORIGIN_SNOW  ORIGIN_PRCP  ORIGIN_PRES  DEST_TAVG  DEST_WSPD  \\\n",
            "0         24.8          0.0          0.5       1017.7       37.5       10.1   \n",
            "1         10.1          0.0          0.0       1008.1       26.2       19.8   \n",
            "2         14.8          0.0          0.0       1014.3       27.6       10.1   \n",
            "3         16.9          0.0          4.3       1017.0       27.6       10.1   \n",
            "4          9.7          0.0          0.0       1014.4       28.4       13.7   \n",
            "\n",
            "   DEST_SNOW  DEST_PRCP  DEST_PRES  \n",
            "0        0.0        0.0     1008.1  \n",
            "1        0.0        2.3     1016.9  \n",
            "2        0.0        0.0     1015.4  \n",
            "3        0.0        0.0     1015.4  \n",
            "4        0.0        2.8     1018.3  \n",
            "\n",
            "[5 rows x 23 columns]\n",
            "FL_DATE                      0\n",
            "OP_CARRIER_AIRLINE_ID        0\n",
            "Airline_Name                 0\n",
            "OP_CARRIER_FL_NUM            0\n",
            "ORIGIN                       0\n",
            "DEST                         0\n",
            "CRS_DEP_TIME                 0\n",
            "DEP_TIME                     0\n",
            "DELAY                        0\n",
            "ARR_TIME                     0\n",
            "CRS_ELAPSED_TIME             0\n",
            "ACTUAL_ELAPSED_TIME          0\n",
            "Day_of_Week                  0\n",
            "ORIGIN_TAVG               8215\n",
            "ORIGIN_WSPD               8657\n",
            "ORIGIN_SNOW              56056\n",
            "ORIGIN_PRCP              20199\n",
            "ORIGIN_PRES              24983\n",
            "DEST_TAVG                 8229\n",
            "DEST_WSPD                 8674\n",
            "DEST_SNOW                56138\n",
            "DEST_PRCP                20210\n",
            "DEST_PRES                25045\n",
            "dtype: int64\n",
            "FL_DATE                  0\n",
            "OP_CARRIER_AIRLINE_ID    0\n",
            "Airline_Name             0\n",
            "OP_CARRIER_FL_NUM        0\n",
            "ORIGIN                   0\n",
            "DEST                     0\n",
            "CRS_DEP_TIME             0\n",
            "DEP_TIME                 0\n",
            "DELAY                    0\n",
            "ARR_TIME                 0\n",
            "CRS_ELAPSED_TIME         0\n",
            "ACTUAL_ELAPSED_TIME      0\n",
            "Day_of_Week              0\n",
            "ORIGIN_TAVG              0\n",
            "ORIGIN_WSPD              0\n",
            "ORIGIN_SNOW              0\n",
            "ORIGIN_PRCP              0\n",
            "ORIGIN_PRES              0\n",
            "DEST_TAVG                0\n",
            "DEST_WSPD                0\n",
            "DEST_SNOW                0\n",
            "DEST_PRCP                0\n",
            "DEST_PRES                0\n",
            "dtype: int64\n"
          ]
        }
      ],
      "source": [
        "print(AL.head())\n",
        "## Check for Nulls\n",
        "print(AL.isnull().sum())\n",
        "\n",
        "## Drop Nulls\n",
        "AL.dropna(inplace=True)\n",
        "\n",
        "## Confirm Nulls Were Dropped\n",
        "print(AL.isnull().sum())"
      ],
      "id": "0AxMRaD4ix0H"
    },
    {
      "cell_type": "code",
      "execution_count": null,
      "metadata": {
        "colab": {
          "base_uri": "https://localhost:8080/"
        },
        "id": "-ionU6QDi-fi",
        "outputId": "483fd659-3c54-4fe6-c32f-3824b58a6599"
      },
      "outputs": [
        {
          "output_type": "stream",
          "name": "stdout",
          "text": [
            "   ORIGIN_TAVG  ORIGIN_WSPD  ORIGIN_SNOW  ORIGIN_PRCP  ORIGIN_PRES  DEST_TAVG  \\\n",
            "0         25.4         24.8          0.0          0.5       1017.7       37.5   \n",
            "1         37.5         10.1          0.0          0.0       1008.1       26.2   \n",
            "2         22.9         14.8          0.0          0.0       1014.3       27.6   \n",
            "3         27.7         16.9          0.0          4.3       1017.0       27.6   \n",
            "4         28.9          9.7          0.0          0.0       1014.4       28.4   \n",
            "\n",
            "   DEST_WSPD  DEST_SNOW  DEST_PRCP  DEST_PRES  DELAY  \n",
            "0       10.1        0.0        0.0     1008.1   True  \n",
            "1       19.8        0.0        2.3     1016.9   True  \n",
            "2       10.1        0.0        0.0     1015.4  False  \n",
            "3       10.1        0.0        0.0     1015.4   True  \n",
            "4       13.7        0.0        2.8     1018.3  False  \n",
            "[('ORIGIN_TAVG', 'DELAY'), ('ORIGIN_WSPD', 'DELAY'), ('ORIGIN_SNOW', 'DELAY'), ('ORIGIN_PRCP', 'DELAY'), ('ORIGIN_PRES', 'DELAY'), ('DEST_TAVG', 'DELAY'), ('DEST_WSPD', 'DELAY'), ('DEST_SNOW', 'DELAY'), ('DEST_PRCP', 'DELAY'), ('DEST_PRES', 'DELAY')]\n",
            "10\n"
          ]
        }
      ],
      "source": [
        "## Determine Correlation Between Parameters and the Categorical Target, Delay\n",
        "import scipy.stats as ss\n",
        "from itertools import product\n",
        "\n",
        "cat_continous_columns = ['ORIGIN_TAVG', 'ORIGIN_WSPD', 'ORIGIN_SNOW', 'ORIGIN_PRCP', 'ORIGIN_PRES', 'DEST_TAVG', 'DEST_WSPD', 'DEST_SNOW', 'DEST_PRCP', 'DEST_PRES', 'DELAY']\n",
        "AL_con_cat = AL[cat_continous_columns]\n",
        "print(AL_con_cat.head())\n",
        "\n",
        "con_var1 = ['ORIGIN_TAVG', 'ORIGIN_WSPD', 'ORIGIN_SNOW', 'ORIGIN_PRCP', 'ORIGIN_PRES', 'DEST_TAVG', 'DEST_WSPD', 'DEST_SNOW', 'DEST_PRCP', 'DEST_PRES',]\n",
        "cat_var1 = ['DELAY']\n",
        "cat_con_prod = list(product(con_var1,cat_var1, repeat = 1))\n",
        "print(cat_con_prod)\n",
        "print(len(cat_con_prod))"
      ],
      "id": "-ionU6QDi-fi"
    },
    {
      "cell_type": "code",
      "execution_count": null,
      "metadata": {
        "colab": {
          "base_uri": "https://localhost:8080/"
        },
        "id": "S9fdXSwKjcKS",
        "outputId": "02a242dd-8cf7-4146-de71-f71c3da8b636"
      },
      "outputs": [
        {
          "output_type": "stream",
          "name": "stdout",
          "text": [
            "[('ORIGIN_TAVG', 'DELAY', 0.0019688561113175755), ('ORIGIN_WSPD', 'DELAY', 0.00196047046184753), ('ORIGIN_SNOW', 'DELAY', nan), ('ORIGIN_PRCP', 'DELAY', 0.0725389910011924), ('ORIGIN_PRES', 'DELAY', -0.03094152701535053), ('DEST_TAVG', 'DELAY', -0.003898308433448934), ('DEST_WSPD', 'DELAY', 0.009745433394093981), ('DEST_SNOW', 'DELAY', nan), ('DEST_PRCP', 'DELAY', 0.04592608550537086), ('DEST_PRES', 'DELAY', -0.02374676289319035)]\n"
          ]
        }
      ],
      "source": [
        "result = []\n",
        "for prod in cat_con_prod:\n",
        "  result.append((prod[0],prod[1], AL_con_cat[prod[0]].corr(AL_con_cat[prod[1]])))\n",
        "\n",
        "print(result)"
      ],
      "id": "S9fdXSwKjcKS"
    },
    {
      "cell_type": "code",
      "execution_count": null,
      "metadata": {
        "colab": {
          "base_uri": "https://localhost:8080/",
          "height": 394
        },
        "id": "bUyA826zjgTh",
        "outputId": "0984f9a7-f697-408f-cb24-552c6d4e0598"
      },
      "outputs": [
        {
          "output_type": "execute_result",
          "data": {
            "text/plain": [
              "var2            DELAY\n",
              "var1                 \n",
              "DEST_PRCP    0.045926\n",
              "DEST_PRES   -0.023747\n",
              "DEST_SNOW         NaN\n",
              "DEST_TAVG   -0.003898\n",
              "DEST_WSPD    0.009745\n",
              "ORIGIN_PRCP  0.072539\n",
              "ORIGIN_PRES -0.030942\n",
              "ORIGIN_SNOW       NaN\n",
              "ORIGIN_TAVG  0.001969\n",
              "ORIGIN_WSPD  0.001960"
            ],
            "text/html": [
              "\n",
              "  <div id=\"df-cdb02964-61b7-4c21-b2e2-7e643ed7e7c0\">\n",
              "    <div class=\"colab-df-container\">\n",
              "      <div>\n",
              "<style scoped>\n",
              "    .dataframe tbody tr th:only-of-type {\n",
              "        vertical-align: middle;\n",
              "    }\n",
              "\n",
              "    .dataframe tbody tr th {\n",
              "        vertical-align: top;\n",
              "    }\n",
              "\n",
              "    .dataframe thead th {\n",
              "        text-align: right;\n",
              "    }\n",
              "</style>\n",
              "<table border=\"1\" class=\"dataframe\">\n",
              "  <thead>\n",
              "    <tr style=\"text-align: right;\">\n",
              "      <th>var2</th>\n",
              "      <th>DELAY</th>\n",
              "    </tr>\n",
              "    <tr>\n",
              "      <th>var1</th>\n",
              "      <th></th>\n",
              "    </tr>\n",
              "  </thead>\n",
              "  <tbody>\n",
              "    <tr>\n",
              "      <th>DEST_PRCP</th>\n",
              "      <td>0.045926</td>\n",
              "    </tr>\n",
              "    <tr>\n",
              "      <th>DEST_PRES</th>\n",
              "      <td>-0.023747</td>\n",
              "    </tr>\n",
              "    <tr>\n",
              "      <th>DEST_SNOW</th>\n",
              "      <td>NaN</td>\n",
              "    </tr>\n",
              "    <tr>\n",
              "      <th>DEST_TAVG</th>\n",
              "      <td>-0.003898</td>\n",
              "    </tr>\n",
              "    <tr>\n",
              "      <th>DEST_WSPD</th>\n",
              "      <td>0.009745</td>\n",
              "    </tr>\n",
              "    <tr>\n",
              "      <th>ORIGIN_PRCP</th>\n",
              "      <td>0.072539</td>\n",
              "    </tr>\n",
              "    <tr>\n",
              "      <th>ORIGIN_PRES</th>\n",
              "      <td>-0.030942</td>\n",
              "    </tr>\n",
              "    <tr>\n",
              "      <th>ORIGIN_SNOW</th>\n",
              "      <td>NaN</td>\n",
              "    </tr>\n",
              "    <tr>\n",
              "      <th>ORIGIN_TAVG</th>\n",
              "      <td>0.001969</td>\n",
              "    </tr>\n",
              "    <tr>\n",
              "      <th>ORIGIN_WSPD</th>\n",
              "      <td>0.001960</td>\n",
              "    </tr>\n",
              "  </tbody>\n",
              "</table>\n",
              "</div>\n",
              "      <button class=\"colab-df-convert\" onclick=\"convertToInteractive('df-cdb02964-61b7-4c21-b2e2-7e643ed7e7c0')\"\n",
              "              title=\"Convert this dataframe to an interactive table.\"\n",
              "              style=\"display:none;\">\n",
              "        \n",
              "  <svg xmlns=\"http://www.w3.org/2000/svg\" height=\"24px\"viewBox=\"0 0 24 24\"\n",
              "       width=\"24px\">\n",
              "    <path d=\"M0 0h24v24H0V0z\" fill=\"none\"/>\n",
              "    <path d=\"M18.56 5.44l.94 2.06.94-2.06 2.06-.94-2.06-.94-.94-2.06-.94 2.06-2.06.94zm-11 1L8.5 8.5l.94-2.06 2.06-.94-2.06-.94L8.5 2.5l-.94 2.06-2.06.94zm10 10l.94 2.06.94-2.06 2.06-.94-2.06-.94-.94-2.06-.94 2.06-2.06.94z\"/><path d=\"M17.41 7.96l-1.37-1.37c-.4-.4-.92-.59-1.43-.59-.52 0-1.04.2-1.43.59L10.3 9.45l-7.72 7.72c-.78.78-.78 2.05 0 2.83L4 21.41c.39.39.9.59 1.41.59.51 0 1.02-.2 1.41-.59l7.78-7.78 2.81-2.81c.8-.78.8-2.07 0-2.86zM5.41 20L4 18.59l7.72-7.72 1.47 1.35L5.41 20z\"/>\n",
              "  </svg>\n",
              "      </button>\n",
              "      \n",
              "  <style>\n",
              "    .colab-df-container {\n",
              "      display:flex;\n",
              "      flex-wrap:wrap;\n",
              "      gap: 12px;\n",
              "    }\n",
              "\n",
              "    .colab-df-convert {\n",
              "      background-color: #E8F0FE;\n",
              "      border: none;\n",
              "      border-radius: 50%;\n",
              "      cursor: pointer;\n",
              "      display: none;\n",
              "      fill: #1967D2;\n",
              "      height: 32px;\n",
              "      padding: 0 0 0 0;\n",
              "      width: 32px;\n",
              "    }\n",
              "\n",
              "    .colab-df-convert:hover {\n",
              "      background-color: #E2EBFA;\n",
              "      box-shadow: 0px 1px 2px rgba(60, 64, 67, 0.3), 0px 1px 3px 1px rgba(60, 64, 67, 0.15);\n",
              "      fill: #174EA6;\n",
              "    }\n",
              "\n",
              "    [theme=dark] .colab-df-convert {\n",
              "      background-color: #3B4455;\n",
              "      fill: #D2E3FC;\n",
              "    }\n",
              "\n",
              "    [theme=dark] .colab-df-convert:hover {\n",
              "      background-color: #434B5C;\n",
              "      box-shadow: 0px 1px 3px 1px rgba(0, 0, 0, 0.15);\n",
              "      filter: drop-shadow(0px 1px 2px rgba(0, 0, 0, 0.3));\n",
              "      fill: #FFFFFF;\n",
              "    }\n",
              "  </style>\n",
              "\n",
              "      <script>\n",
              "        const buttonEl =\n",
              "          document.querySelector('#df-cdb02964-61b7-4c21-b2e2-7e643ed7e7c0 button.colab-df-convert');\n",
              "        buttonEl.style.display =\n",
              "          google.colab.kernel.accessAllowed ? 'block' : 'none';\n",
              "\n",
              "        async function convertToInteractive(key) {\n",
              "          const element = document.querySelector('#df-cdb02964-61b7-4c21-b2e2-7e643ed7e7c0');\n",
              "          const dataTable =\n",
              "            await google.colab.kernel.invokeFunction('convertToInteractive',\n",
              "                                                     [key], {});\n",
              "          if (!dataTable) return;\n",
              "\n",
              "          const docLinkHtml = 'Like what you see? Visit the ' +\n",
              "            '<a target=\"_blank\" href=https://colab.research.google.com/notebooks/data_table.ipynb>data table notebook</a>'\n",
              "            + ' to learn more about interactive tables.';\n",
              "          element.innerHTML = '';\n",
              "          dataTable['output_type'] = 'display_data';\n",
              "          await google.colab.output.renderOutput(dataTable, element);\n",
              "          const docLink = document.createElement('div');\n",
              "          docLink.innerHTML = docLinkHtml;\n",
              "          element.appendChild(docLink);\n",
              "        }\n",
              "      </script>\n",
              "    </div>\n",
              "  </div>\n",
              "  "
            ]
          },
          "metadata": {},
          "execution_count": 308
        }
      ],
      "source": [
        "corr_output = pd.DataFrame(result, columns = ['var1', 'var2', 'coeff'])\n",
        "## Using pivot function to convert the above DataFrame into a crosstab\n",
        "corr_output.pivot(index='var1', columns='var2', values='coeff')"
      ],
      "id": "bUyA826zjgTh"
    },
    {
      "cell_type": "markdown",
      "metadata": {
        "id": "TwHi0BhoPsBZ"
      },
      "source": [
        "### Model Selection"
      ],
      "id": "TwHi0BhoPsBZ"
    },
    {
      "cell_type": "code",
      "execution_count": null,
      "metadata": {
        "id": "yuTZN2T1DxSR"
      },
      "outputs": [],
      "source": [
        "from sklearn import svm, tree, naive_bayes, linear_model\n",
        "from sklearn.ensemble import RandomForestClassifier\n",
        "from sklearn.model_selection import train_test_split\n",
        "from sklearn.metrics import accuracy_score"
      ],
      "id": "yuTZN2T1DxSR"
    },
    {
      "cell_type": "code",
      "execution_count": null,
      "metadata": {
        "id": "MPJWccNeGMFV"
      },
      "outputs": [],
      "source": [
        " def run_decision_tree(x_train, y_train, x_test, y_test):\n",
        "  '''\n",
        "  Function for Autonomous Running of a Decision Tree\n",
        "  '''\n",
        " \n",
        "  ## Create Decision Tree Object\n",
        "  clf = tree.DecisionTreeClassifier(random_state=0)\n",
        "\n",
        "  ## Fit clf2 with x_train_scaled and y_train_scaled\n",
        "  clf.fit(x_train, y_train)\n",
        "\n",
        "  ## Predict and Score\n",
        "  predictions = clf.predict(x_test)\n",
        "  score = accuracy_score(y_test, predictions)\n",
        "\n",
        "  return score\n",
        "\n"
      ],
      "id": "MPJWccNeGMFV"
    },
    {
      "cell_type": "code",
      "execution_count": null,
      "metadata": {
        "id": "cwG5z_iaHMhK"
      },
      "outputs": [],
      "source": [
        "def run_random_forest(x_train, y_train, x_test, y_test):\n",
        "  '''\n",
        "  Function for Autonomous Running of the Random Forest Function\n",
        "  '''\n",
        "  ## Fitting the Model\n",
        "  rf = RandomForestClassifier(n_estimators=500)\n",
        "  rf.fit(x_train, y_train)\n",
        "\n",
        "  ## Evaluating the Model\n",
        "  predictions = rf.predict(x_test)\n",
        "  score = accuracy_score(y_test, predictions)\n",
        "\n",
        "  return score"
      ],
      "id": "cwG5z_iaHMhK"
    },
    {
      "cell_type": "code",
      "execution_count": null,
      "metadata": {
        "id": "Uu12ogmZHMMa"
      },
      "outputs": [],
      "source": [
        "def run_naive_bayes(x_train, y_train, x_test, y_test):\n",
        "  '''\n",
        "  Function for Autonomous Running of a Naive Bayes Model\n",
        "  '''\n",
        "\n",
        "  ## Fitting the Model\n",
        "  gnb = naive_bayes.GaussianNB()\n",
        "  gnb.fit(x_train, y_train)\n",
        "\n",
        "  ## Evaluating the Model\n",
        "  predictions = gnb.predict(x_test)\n",
        "  score = accuracy_score(y_test, predictions)\n",
        "\n",
        "  return score"
      ],
      "id": "Uu12ogmZHMMa"
    },
    {
      "cell_type": "code",
      "execution_count": null,
      "metadata": {
        "id": "ggfOj9k_RRlQ"
      },
      "outputs": [],
      "source": [
        "def run_logistic_regression(x_train, y_train, x_test, y_test):\n",
        "  '''\n",
        "  Function for Autonomous Running of Logistic Regression\n",
        "  '''\n",
        "  ## Fitting the Model\n",
        "  lr = linear_model.LogisticRegression(random_state=0)\n",
        "  lr.fit(x_train, y_train)\n",
        "\n",
        "  ## Evaluating the Model\n",
        "  predictions = lr.predict(x_test)\n",
        "  score = accuracy_score(y_test, predictions)\n",
        "\n",
        "  return score"
      ],
      "id": "ggfOj9k_RRlQ"
    },
    {
      "cell_type": "code",
      "execution_count": null,
      "metadata": {
        "colab": {
          "base_uri": "https://localhost:8080/"
        },
        "id": "Lb9H9jdGUIDD",
        "outputId": "78438051-2748-499f-c0f3-33fa6b54d878"
      },
      "outputs": [
        {
          "output_type": "stream",
          "name": "stderr",
          "text": [
            "ConvergenceWarning: lbfgs failed to converge (status=1):\n",
            "STOP: TOTAL NO. of ITERATIONS REACHED LIMIT.\n",
            "\n",
            "Increase the number of iterations (max_iter) or scale the data as shown in:\n",
            "    https://scikit-learn.org/stable/modules/preprocessing.html\n",
            "Please also refer to the documentation for alternative solver options:\n",
            "    https://scikit-learn.org/stable/modules/linear_model.html#logistic-regression\n",
            "ConvergenceWarning: lbfgs failed to converge (status=1):\n",
            "STOP: TOTAL NO. of ITERATIONS REACHED LIMIT.\n",
            "\n",
            "Increase the number of iterations (max_iter) or scale the data as shown in:\n",
            "    https://scikit-learn.org/stable/modules/preprocessing.html\n",
            "Please also refer to the documentation for alternative solver options:\n",
            "    https://scikit-learn.org/stable/modules/linear_model.html#logistic-regression\n",
            "ConvergenceWarning: lbfgs failed to converge (status=1):\n",
            "STOP: TOTAL NO. of ITERATIONS REACHED LIMIT.\n",
            "\n",
            "Increase the number of iterations (max_iter) or scale the data as shown in:\n",
            "    https://scikit-learn.org/stable/modules/preprocessing.html\n",
            "Please also refer to the documentation for alternative solver options:\n",
            "    https://scikit-learn.org/stable/modules/linear_model.html#logistic-regression\n",
            "ConvergenceWarning: lbfgs failed to converge (status=1):\n",
            "STOP: TOTAL NO. of ITERATIONS REACHED LIMIT.\n",
            "\n",
            "Increase the number of iterations (max_iter) or scale the data as shown in:\n",
            "    https://scikit-learn.org/stable/modules/preprocessing.html\n",
            "Please also refer to the documentation for alternative solver options:\n",
            "    https://scikit-learn.org/stable/modules/linear_model.html#logistic-regression\n",
            "ConvergenceWarning: lbfgs failed to converge (status=1):\n",
            "STOP: TOTAL NO. of ITERATIONS REACHED LIMIT.\n",
            "\n",
            "Increase the number of iterations (max_iter) or scale the data as shown in:\n",
            "    https://scikit-learn.org/stable/modules/preprocessing.html\n",
            "Please also refer to the documentation for alternative solver options:\n",
            "    https://scikit-learn.org/stable/modules/linear_model.html#logistic-regression\n",
            "ConvergenceWarning: lbfgs failed to converge (status=1):\n",
            "STOP: TOTAL NO. of ITERATIONS REACHED LIMIT.\n",
            "\n",
            "Increase the number of iterations (max_iter) or scale the data as shown in:\n",
            "    https://scikit-learn.org/stable/modules/preprocessing.html\n",
            "Please also refer to the documentation for alternative solver options:\n",
            "    https://scikit-learn.org/stable/modules/linear_model.html#logistic-regression\n",
            "ConvergenceWarning: lbfgs failed to converge (status=1):\n",
            "STOP: TOTAL NO. of ITERATIONS REACHED LIMIT.\n",
            "\n",
            "Increase the number of iterations (max_iter) or scale the data as shown in:\n",
            "    https://scikit-learn.org/stable/modules/preprocessing.html\n",
            "Please also refer to the documentation for alternative solver options:\n",
            "    https://scikit-learn.org/stable/modules/linear_model.html#logistic-regression\n",
            "ConvergenceWarning: lbfgs failed to converge (status=1):\n",
            "STOP: TOTAL NO. of ITERATIONS REACHED LIMIT.\n",
            "\n",
            "Increase the number of iterations (max_iter) or scale the data as shown in:\n",
            "    https://scikit-learn.org/stable/modules/preprocessing.html\n",
            "Please also refer to the documentation for alternative solver options:\n",
            "    https://scikit-learn.org/stable/modules/linear_model.html#logistic-regression\n",
            "ConvergenceWarning: lbfgs failed to converge (status=1):\n",
            "STOP: TOTAL NO. of ITERATIONS REACHED LIMIT.\n",
            "\n",
            "Increase the number of iterations (max_iter) or scale the data as shown in:\n",
            "    https://scikit-learn.org/stable/modules/preprocessing.html\n",
            "Please also refer to the documentation for alternative solver options:\n",
            "    https://scikit-learn.org/stable/modules/linear_model.html#logistic-regression\n",
            "ConvergenceWarning: lbfgs failed to converge (status=1):\n",
            "STOP: TOTAL NO. of ITERATIONS REACHED LIMIT.\n",
            "\n",
            "Increase the number of iterations (max_iter) or scale the data as shown in:\n",
            "    https://scikit-learn.org/stable/modules/preprocessing.html\n",
            "Please also refer to the documentation for alternative solver options:\n",
            "    https://scikit-learn.org/stable/modules/linear_model.html#logistic-regression\n",
            "ConvergenceWarning: lbfgs failed to converge (status=1):\n",
            "STOP: TOTAL NO. of ITERATIONS REACHED LIMIT.\n",
            "\n",
            "Increase the number of iterations (max_iter) or scale the data as shown in:\n",
            "    https://scikit-learn.org/stable/modules/preprocessing.html\n",
            "Please also refer to the documentation for alternative solver options:\n",
            "    https://scikit-learn.org/stable/modules/linear_model.html#logistic-regression\n",
            "ConvergenceWarning: lbfgs failed to converge (status=1):\n",
            "STOP: TOTAL NO. of ITERATIONS REACHED LIMIT.\n",
            "\n",
            "Increase the number of iterations (max_iter) or scale the data as shown in:\n",
            "    https://scikit-learn.org/stable/modules/preprocessing.html\n",
            "Please also refer to the documentation for alternative solver options:\n",
            "    https://scikit-learn.org/stable/modules/linear_model.html#logistic-regression\n",
            "ConvergenceWarning: lbfgs failed to converge (status=1):\n",
            "STOP: TOTAL NO. of ITERATIONS REACHED LIMIT.\n",
            "\n",
            "Increase the number of iterations (max_iter) or scale the data as shown in:\n",
            "    https://scikit-learn.org/stable/modules/preprocessing.html\n",
            "Please also refer to the documentation for alternative solver options:\n",
            "    https://scikit-learn.org/stable/modules/linear_model.html#logistic-regression\n",
            "ConvergenceWarning: lbfgs failed to converge (status=1):\n",
            "STOP: TOTAL NO. of ITERATIONS REACHED LIMIT.\n",
            "\n",
            "Increase the number of iterations (max_iter) or scale the data as shown in:\n",
            "    https://scikit-learn.org/stable/modules/preprocessing.html\n",
            "Please also refer to the documentation for alternative solver options:\n",
            "    https://scikit-learn.org/stable/modules/linear_model.html#logistic-regression\n",
            "ConvergenceWarning: lbfgs failed to converge (status=1):\n",
            "STOP: TOTAL NO. of ITERATIONS REACHED LIMIT.\n",
            "\n",
            "Increase the number of iterations (max_iter) or scale the data as shown in:\n",
            "    https://scikit-learn.org/stable/modules/preprocessing.html\n",
            "Please also refer to the documentation for alternative solver options:\n",
            "    https://scikit-learn.org/stable/modules/linear_model.html#logistic-regression\n",
            "ConvergenceWarning: lbfgs failed to converge (status=1):\n",
            "STOP: TOTAL NO. of ITERATIONS REACHED LIMIT.\n",
            "\n",
            "Increase the number of iterations (max_iter) or scale the data as shown in:\n",
            "    https://scikit-learn.org/stable/modules/preprocessing.html\n",
            "Please also refer to the documentation for alternative solver options:\n",
            "    https://scikit-learn.org/stable/modules/linear_model.html#logistic-regression\n",
            "ConvergenceWarning: lbfgs failed to converge (status=1):\n",
            "STOP: TOTAL NO. of ITERATIONS REACHED LIMIT.\n",
            "\n",
            "Increase the number of iterations (max_iter) or scale the data as shown in:\n",
            "    https://scikit-learn.org/stable/modules/preprocessing.html\n",
            "Please also refer to the documentation for alternative solver options:\n",
            "    https://scikit-learn.org/stable/modules/linear_model.html#logistic-regression\n",
            "ConvergenceWarning: lbfgs failed to converge (status=1):\n",
            "STOP: TOTAL NO. of ITERATIONS REACHED LIMIT.\n",
            "\n",
            "Increase the number of iterations (max_iter) or scale the data as shown in:\n",
            "    https://scikit-learn.org/stable/modules/preprocessing.html\n",
            "Please also refer to the documentation for alternative solver options:\n",
            "    https://scikit-learn.org/stable/modules/linear_model.html#logistic-regression\n",
            "ConvergenceWarning: lbfgs failed to converge (status=1):\n",
            "STOP: TOTAL NO. of ITERATIONS REACHED LIMIT.\n",
            "\n",
            "Increase the number of iterations (max_iter) or scale the data as shown in:\n",
            "    https://scikit-learn.org/stable/modules/preprocessing.html\n",
            "Please also refer to the documentation for alternative solver options:\n",
            "    https://scikit-learn.org/stable/modules/linear_model.html#logistic-regression\n"
          ]
        }
      ],
      "source": [
        "# Run Models on Various Sized Training Sets\n",
        "\n",
        "i = 10000\n",
        "dt_list = []\n",
        "rf_list = []\n",
        "nb_list = []\n",
        "lr_list = []\n",
        "num_samples = []\n",
        "while i <= 100000:\n",
        "  ## Sample from Data Set Randomly of Size i\n",
        "  AL_r = AL.sample(n=i, random_state=0)\n",
        "  ## Split the Sample for Training and Testing\n",
        "  x_train, x_test, y_train, y_test = train_test_split(AL_r[['OP_CARRIER_AIRLINE_ID', 'Airline_Name', 'OP_CARRIER_FL_NUM', 'ORIGIN', 'DEST', 'CRS_DEP_TIME', 'DEP_TIME', 'ARR_TIME', 'CRS_ELAPSED_TIME', 'ACTUAL_ELAPSED_TIME']], AL_r['DELAY'], random_state=0)\n",
        "\n",
        "  dt_acc = run_decision_tree(x_train, y_train, x_test, y_test)\n",
        "  rf_acc = run_random_forest(x_train, y_train, x_test, y_test)\n",
        "  nb_acc = run_naive_bayes(x_train, y_train, x_test, y_test)\n",
        "  lr_acc = run_logistic_regression(x_train, y_train, x_test, y_test)\n",
        "  \n",
        "  dt_list.append(round(dt_acc*100, 2))\n",
        "  rf_list.append(round(rf_acc*100, 2))\n",
        "  nb_list.append(round(nb_acc*100, 2))\n",
        "  lr_list.append(round(lr_acc*100, 2));\n",
        "\n",
        "  num_samples.append(i)\n",
        "\n",
        "  i += 5000\n",
        "\n",
        "samples_dict = {'Decision Tree Accuracy':dt_list, 'Random Forest Accuracy':rf_list, 'Naive Bayes (Gaussian) Accuracy': nb_list, 'Logistic Regression': lr_list}\n",
        "samples_df_inital = pd.DataFrame(data=samples_dict, index=num_samples)\n",
        "\n"
      ],
      "id": "Lb9H9jdGUIDD"
    },
    {
      "cell_type": "code",
      "execution_count": null,
      "metadata": {
        "colab": {
          "base_uri": "https://localhost:8080/"
        },
        "id": "FZ5odrRhdDVU",
        "outputId": "daff343c-4436-4ecb-a569-748dd9f4fd60"
      },
      "outputs": [
        {
          "output_type": "stream",
          "name": "stdout",
          "text": [
            "        Decision Tree Accuracy  Random Forest Accuracy  \\\n",
            "10000                    82.84                   78.12   \n",
            "15000                    87.01                   80.45   \n",
            "20000                    89.32                   82.04   \n",
            "25000                    89.84                   83.47   \n",
            "30000                    92.20                   84.59   \n",
            "35000                    93.07                   85.36   \n",
            "40000                    94.49                   86.50   \n",
            "45000                    94.72                   86.41   \n",
            "50000                    95.54                   86.71   \n",
            "55000                    95.46                   87.13   \n",
            "60000                    95.71                   87.03   \n",
            "65000                    95.99                   87.69   \n",
            "70000                    96.05                   87.73   \n",
            "75000                    96.20                   88.05   \n",
            "80000                    97.32                   88.64   \n",
            "85000                    96.93                   88.37   \n",
            "90000                    96.88                   88.76   \n",
            "95000                    97.08                   88.97   \n",
            "100000                   97.15                   89.13   \n",
            "\n",
            "        Naive Bayes (Gaussian) Accuracy  Logistic Regression  \n",
            "10000                             61.00                63.00  \n",
            "15000                             64.75                65.12  \n",
            "20000                             62.52                65.68  \n",
            "25000                             63.30                66.48  \n",
            "30000                             63.35                69.08  \n",
            "35000                             63.86                68.55  \n",
            "40000                             63.50                68.25  \n",
            "45000                             63.72                69.68  \n",
            "50000                             63.37                68.87  \n",
            "55000                             63.86                68.90  \n",
            "60000                             64.24                69.63  \n",
            "65000                             63.66                68.89  \n",
            "70000                             63.33                69.34  \n",
            "75000                             64.05                70.29  \n",
            "80000                             64.00                69.86  \n",
            "85000                             63.60                70.73  \n",
            "90000                             63.91                70.29  \n",
            "95000                             64.33                70.07  \n",
            "100000                            63.97                70.05  \n"
          ]
        }
      ],
      "source": [
        "print(samples_df_inital)"
      ],
      "id": "FZ5odrRhdDVU"
    },
    {
      "cell_type": "code",
      "execution_count": null,
      "metadata": {
        "id": "EbhLzDb7dS5j"
      },
      "outputs": [],
      "source": [
        "\n",
        "i = 10000\n",
        "dt_list = []\n",
        "rf_list = []\n",
        "nb_list = []\n",
        "lr_list = []\n",
        "num_samples = []\n",
        "while i <= 100000:\n",
        "  ## Sample from Data Set Randomly of Size i\n",
        "  AL_r = AL.sample(n=i, random_state=0)\n",
        "  ## Split the Sample for Training and Testing\n",
        "  x_train, x_test, y_train, y_test = train_test_split(AL_r[['CRS_DEP_TIME', 'DEP_TIME', 'ARR_TIME', 'CRS_ELAPSED_TIME', 'ACTUAL_ELAPSED_TIME']], AL_r['DELAY'], random_state=0)\n",
        "\n",
        "  dt_acc = run_decision_tree(x_train, y_train, x_test, y_test)\n",
        "  rf_acc = run_random_forest(x_train, y_train, x_test, y_test)\n",
        "  nb_acc = run_naive_bayes(x_train, y_train, x_test, y_test)\n",
        "  lr_acc = run_logistic_regression(x_train, y_train, x_test, y_test)\n",
        "  \n",
        "  dt_list.append(round(dt_acc*100, 2))\n",
        "  rf_list.append(round(rf_acc*100, 2))\n",
        "  nb_list.append(round(nb_acc*100, 2))\n",
        "  lr_list.append(round(lr_acc*100, 2));\n",
        "\n",
        "  num_samples.append(i)\n",
        "\n",
        "  i += 5000\n",
        "\n",
        "samples_dict = {'Decision Tree Accuracy':dt_list, 'Random Forest Accuracy':rf_list, 'Naive Bayes (Gaussian) Accuracy': nb_list, 'Logistic Regression': lr_list}\n",
        "samples_df_reduced_param = pd.DataFrame(data=samples_dict, index=num_samples)"
      ],
      "id": "EbhLzDb7dS5j"
    },
    {
      "cell_type": "code",
      "execution_count": null,
      "metadata": {
        "colab": {
          "base_uri": "https://localhost:8080/"
        },
        "id": "_z--M_Kma9uG",
        "outputId": "40b4a73e-68c0-4b9b-9c47-dde829e2a8ea"
      },
      "outputs": [
        {
          "output_type": "stream",
          "name": "stdout",
          "text": [
            "        Decision Tree Accuracy  Random Forest Accuracy  \\\n",
            "10000                    91.40                   86.64   \n",
            "15000                    93.15                   88.72   \n",
            "20000                    94.36                   90.28   \n",
            "25000                    95.76                   91.49   \n",
            "30000                    95.48                   91.76   \n",
            "35000                    97.06                   92.15   \n",
            "40000                    97.05                   93.24   \n",
            "45000                    97.41                   93.62   \n",
            "50000                    97.33                   94.10   \n",
            "55000                    97.96                   94.28   \n",
            "60000                    97.62                   94.38   \n",
            "65000                    98.12                   94.94   \n",
            "70000                    98.17                   94.91   \n",
            "75000                    98.18                   94.90   \n",
            "80000                    98.48                   95.46   \n",
            "85000                    98.31                   95.39   \n",
            "90000                    98.68                   95.79   \n",
            "95000                    98.54                   95.67   \n",
            "100000                   98.67                   95.79   \n",
            "\n",
            "        Naive Bayes (Gaussian) Accuracy  Logistic Regression  \n",
            "10000                             60.84                63.16  \n",
            "15000                             64.59                65.95  \n",
            "20000                             62.04                65.28  \n",
            "25000                             63.06                67.02  \n",
            "30000                             62.93                68.72  \n",
            "35000                             63.44                68.02  \n",
            "40000                             63.06                67.96  \n",
            "45000                             63.41                69.40  \n",
            "50000                             63.34                68.91  \n",
            "55000                             63.38                69.48  \n",
            "60000                             63.97                70.07  \n",
            "65000                             63.24                68.44  \n",
            "70000                             62.90                68.97  \n",
            "75000                             63.65                70.26  \n",
            "80000                             63.67                69.95  \n",
            "85000                             63.36                70.58  \n",
            "90000                             63.51                70.16  \n",
            "95000                             64.01                70.21  \n",
            "100000                            63.74                69.90  \n"
          ]
        }
      ],
      "source": [
        "print(samples_df_reduced_param)"
      ],
      "id": "_z--M_Kma9uG"
    },
    {
      "cell_type": "code",
      "execution_count": null,
      "metadata": {
        "colab": {
          "base_uri": "https://localhost:8080/"
        },
        "id": "o6osgGhBchpN",
        "outputId": "eb3f580c-532c-4f64-e082-549a917603bd"
      },
      "outputs": [
        {
          "metadata": {
            "tags": null
          },
          "name": "stderr",
          "output_type": "stream",
          "text": [
            "ConvergenceWarning: lbfgs failed to converge (status=1):\n",
            "STOP: TOTAL NO. of ITERATIONS REACHED LIMIT.\n",
            "\n",
            "Increase the number of iterations (max_iter) or scale the data as shown in:\n",
            "    https://scikit-learn.org/stable/modules/preprocessing.html\n",
            "Please also refer to the documentation for alternative solver options:\n",
            "    https://scikit-learn.org/stable/modules/linear_model.html#logistic-regression\n",
            "ConvergenceWarning: lbfgs failed to converge (status=1):\n",
            "STOP: TOTAL NO. of ITERATIONS REACHED LIMIT.\n",
            "\n",
            "Increase the number of iterations (max_iter) or scale the data as shown in:\n",
            "    https://scikit-learn.org/stable/modules/preprocessing.html\n",
            "Please also refer to the documentation for alternative solver options:\n",
            "    https://scikit-learn.org/stable/modules/linear_model.html#logistic-regression\n",
            "ConvergenceWarning: lbfgs failed to converge (status=1):\n",
            "STOP: TOTAL NO. of ITERATIONS REACHED LIMIT.\n",
            "\n",
            "Increase the number of iterations (max_iter) or scale the data as shown in:\n",
            "    https://scikit-learn.org/stable/modules/preprocessing.html\n",
            "Please also refer to the documentation for alternative solver options:\n",
            "    https://scikit-learn.org/stable/modules/linear_model.html#logistic-regression\n",
            "ConvergenceWarning: lbfgs failed to converge (status=1):\n",
            "STOP: TOTAL NO. of ITERATIONS REACHED LIMIT.\n",
            "\n",
            "Increase the number of iterations (max_iter) or scale the data as shown in:\n",
            "    https://scikit-learn.org/stable/modules/preprocessing.html\n",
            "Please also refer to the documentation for alternative solver options:\n",
            "    https://scikit-learn.org/stable/modules/linear_model.html#logistic-regression\n",
            "ConvergenceWarning: lbfgs failed to converge (status=1):\n",
            "STOP: TOTAL NO. of ITERATIONS REACHED LIMIT.\n",
            "\n",
            "Increase the number of iterations (max_iter) or scale the data as shown in:\n",
            "    https://scikit-learn.org/stable/modules/preprocessing.html\n",
            "Please also refer to the documentation for alternative solver options:\n",
            "    https://scikit-learn.org/stable/modules/linear_model.html#logistic-regression\n",
            "ConvergenceWarning: lbfgs failed to converge (status=1):\n",
            "STOP: TOTAL NO. of ITERATIONS REACHED LIMIT.\n",
            "\n",
            "Increase the number of iterations (max_iter) or scale the data as shown in:\n",
            "    https://scikit-learn.org/stable/modules/preprocessing.html\n",
            "Please also refer to the documentation for alternative solver options:\n",
            "    https://scikit-learn.org/stable/modules/linear_model.html#logistic-regression\n",
            "ConvergenceWarning: lbfgs failed to converge (status=1):\n",
            "STOP: TOTAL NO. of ITERATIONS REACHED LIMIT.\n",
            "\n",
            "Increase the number of iterations (max_iter) or scale the data as shown in:\n",
            "    https://scikit-learn.org/stable/modules/preprocessing.html\n",
            "Please also refer to the documentation for alternative solver options:\n",
            "    https://scikit-learn.org/stable/modules/linear_model.html#logistic-regression\n",
            "ConvergenceWarning: lbfgs failed to converge (status=1):\n",
            "STOP: TOTAL NO. of ITERATIONS REACHED LIMIT.\n",
            "\n",
            "Increase the number of iterations (max_iter) or scale the data as shown in:\n",
            "    https://scikit-learn.org/stable/modules/preprocessing.html\n",
            "Please also refer to the documentation for alternative solver options:\n",
            "    https://scikit-learn.org/stable/modules/linear_model.html#logistic-regression\n",
            "ConvergenceWarning: lbfgs failed to converge (status=1):\n",
            "STOP: TOTAL NO. of ITERATIONS REACHED LIMIT.\n",
            "\n",
            "Increase the number of iterations (max_iter) or scale the data as shown in:\n",
            "    https://scikit-learn.org/stable/modules/preprocessing.html\n",
            "Please also refer to the documentation for alternative solver options:\n",
            "    https://scikit-learn.org/stable/modules/linear_model.html#logistic-regression\n",
            "ConvergenceWarning: lbfgs failed to converge (status=1):\n",
            "STOP: TOTAL NO. of ITERATIONS REACHED LIMIT.\n",
            "\n",
            "Increase the number of iterations (max_iter) or scale the data as shown in:\n",
            "    https://scikit-learn.org/stable/modules/preprocessing.html\n",
            "Please also refer to the documentation for alternative solver options:\n",
            "    https://scikit-learn.org/stable/modules/linear_model.html#logistic-regression\n",
            "ConvergenceWarning: lbfgs failed to converge (status=1):\n",
            "STOP: TOTAL NO. of ITERATIONS REACHED LIMIT.\n",
            "\n",
            "Increase the number of iterations (max_iter) or scale the data as shown in:\n",
            "    https://scikit-learn.org/stable/modules/preprocessing.html\n",
            "Please also refer to the documentation for alternative solver options:\n",
            "    https://scikit-learn.org/stable/modules/linear_model.html#logistic-regression\n",
            "ConvergenceWarning: lbfgs failed to converge (status=1):\n",
            "STOP: TOTAL NO. of ITERATIONS REACHED LIMIT.\n",
            "\n",
            "Increase the number of iterations (max_iter) or scale the data as shown in:\n",
            "    https://scikit-learn.org/stable/modules/preprocessing.html\n",
            "Please also refer to the documentation for alternative solver options:\n",
            "    https://scikit-learn.org/stable/modules/linear_model.html#logistic-regression\n"
          ]
        }
      ],
      "source": [
        "## Sample from Data Set Randomly of Size i\n",
        "i = 10000\n",
        "dt_list = []\n",
        "rf_list = []\n",
        "nb_list = []\n",
        "lr_list = []\n",
        "num_samples = []\n",
        "while i <= 100000:\n",
        "  AL_r = AL.sample(n=i, random_state=0)\n",
        "  ## Split the Sample for Training and Testing\n",
        "  x_train, x_test, y_train, y_test = train_test_split(AL_r[['CRS_DEP_TIME', 'DEP_TIME', 'ARR_TIME', 'CRS_ELAPSED_TIME', 'ACTUAL_ELAPSED_TIME', 'Day_of_Week']], AL_r['DELAY'], random_state=0)\n",
        "\n",
        "  dt_acc = run_decision_tree(x_train, y_train, x_test, y_test)\n",
        "  rf_acc = run_random_forest(x_train, y_train, x_test, y_test)\n",
        "  nb_acc = run_naive_bayes(x_train, y_train, x_test, y_test)\n",
        "  lr_acc = run_logistic_regression(x_train, y_train, x_test, y_test)\n",
        "  \n",
        "  dt_list.append(round(dt_acc*100, 2))\n",
        "  rf_list.append(round(rf_acc*100, 2))\n",
        "  nb_list.append(round(nb_acc*100, 2))\n",
        "  lr_list.append(round(lr_acc*100, 2));\n",
        "\n",
        "  num_samples.append(i)\n",
        "\n",
        "  i += 5000\n",
        "\n",
        "samples_dict = {'Decision Tree Accuracy':dt_list, 'Random Forest Accuracy':rf_list, 'Naive Bayes (Gaussian) Accuracy': nb_list, 'Logistic Regression': lr_list}\n",
        "samples_df_cat_days = pd.DataFrame(data=samples_dict, index=num_samples)"
      ],
      "id": "o6osgGhBchpN"
    },
    {
      "cell_type": "code",
      "execution_count": null,
      "metadata": {
        "colab": {
          "base_uri": "https://localhost:8080/"
        },
        "id": "k7NFtxAoeLx2",
        "outputId": "b14ada39-1987-40b7-b08a-918211e5dd25"
      },
      "outputs": [
        {
          "output_type": "stream",
          "name": "stdout",
          "text": [
            "        Decision Tree Accuracy  Random Forest Accuracy  \\\n",
            "10000                    91.12                   84.28   \n",
            "15000                    92.53                   86.77   \n",
            "20000                    94.06                   87.52   \n",
            "25000                    95.62                   88.98   \n",
            "30000                    95.36                   89.41   \n",
            "35000                    96.95                   90.09   \n",
            "40000                    96.93                   91.12   \n",
            "45000                    97.12                   91.43   \n",
            "50000                    97.32                   91.98   \n",
            "55000                    97.82                   92.22   \n",
            "60000                    97.51                   91.97   \n",
            "65000                    97.96                   92.60   \n",
            "70000                    98.09                   92.96   \n",
            "75000                    97.98                   92.53   \n",
            "80000                    98.43                   93.18   \n",
            "85000                    98.26                   93.16   \n",
            "90000                    98.60                   93.30   \n",
            "95000                    98.52                   93.82   \n",
            "100000                   98.66                   93.75   \n",
            "\n",
            "        Naive Bayes (Gaussian) Accuracy  Logistic Regression  \n",
            "10000                             60.64                63.24  \n",
            "15000                             64.51                66.08  \n",
            "20000                             62.02                65.42  \n",
            "25000                             63.06                66.86  \n",
            "30000                             63.01                68.73  \n",
            "35000                             63.46                67.81  \n",
            "40000                             63.11                68.64  \n",
            "45000                             63.45                69.32  \n",
            "50000                             63.41                68.96  \n",
            "55000                             63.41                69.25  \n",
            "60000                             63.83                69.81  \n",
            "65000                             63.24                68.43  \n",
            "70000                             62.89                72.53  \n",
            "75000                             63.62                70.21  \n",
            "80000                             63.68                69.89  \n",
            "85000                             63.37                70.25  \n",
            "90000                             63.45                70.17  \n",
            "95000                             63.99                68.96  \n",
            "100000                            63.75                69.99  \n"
          ]
        }
      ],
      "source": [
        "print(samples_df_cat_days)"
      ],
      "id": "k7NFtxAoeLx2"
    },
    {
      "cell_type": "code",
      "execution_count": null,
      "metadata": {
        "id": "TVRwYfLshXNQ",
        "colab": {
          "base_uri": "https://localhost:8080/"
        },
        "outputId": "6eebc9f0-e174-4bc1-c0b6-532907348086"
      },
      "outputs": [
        {
          "output_type": "stream",
          "name": "stderr",
          "text": [
            "ConvergenceWarning: lbfgs failed to converge (status=1):\n",
            "STOP: TOTAL NO. of ITERATIONS REACHED LIMIT.\n",
            "\n",
            "Increase the number of iterations (max_iter) or scale the data as shown in:\n",
            "    https://scikit-learn.org/stable/modules/preprocessing.html\n",
            "Please also refer to the documentation for alternative solver options:\n",
            "    https://scikit-learn.org/stable/modules/linear_model.html#logistic-regression\n",
            "ConvergenceWarning: lbfgs failed to converge (status=1):\n",
            "STOP: TOTAL NO. of ITERATIONS REACHED LIMIT.\n",
            "\n",
            "Increase the number of iterations (max_iter) or scale the data as shown in:\n",
            "    https://scikit-learn.org/stable/modules/preprocessing.html\n",
            "Please also refer to the documentation for alternative solver options:\n",
            "    https://scikit-learn.org/stable/modules/linear_model.html#logistic-regression\n",
            "ConvergenceWarning: lbfgs failed to converge (status=1):\n",
            "STOP: TOTAL NO. of ITERATIONS REACHED LIMIT.\n",
            "\n",
            "Increase the number of iterations (max_iter) or scale the data as shown in:\n",
            "    https://scikit-learn.org/stable/modules/preprocessing.html\n",
            "Please also refer to the documentation for alternative solver options:\n",
            "    https://scikit-learn.org/stable/modules/linear_model.html#logistic-regression\n",
            "ConvergenceWarning: lbfgs failed to converge (status=1):\n",
            "STOP: TOTAL NO. of ITERATIONS REACHED LIMIT.\n",
            "\n",
            "Increase the number of iterations (max_iter) or scale the data as shown in:\n",
            "    https://scikit-learn.org/stable/modules/preprocessing.html\n",
            "Please also refer to the documentation for alternative solver options:\n",
            "    https://scikit-learn.org/stable/modules/linear_model.html#logistic-regression\n",
            "ConvergenceWarning: lbfgs failed to converge (status=1):\n",
            "STOP: TOTAL NO. of ITERATIONS REACHED LIMIT.\n",
            "\n",
            "Increase the number of iterations (max_iter) or scale the data as shown in:\n",
            "    https://scikit-learn.org/stable/modules/preprocessing.html\n",
            "Please also refer to the documentation for alternative solver options:\n",
            "    https://scikit-learn.org/stable/modules/linear_model.html#logistic-regression\n",
            "ConvergenceWarning: lbfgs failed to converge (status=1):\n",
            "STOP: TOTAL NO. of ITERATIONS REACHED LIMIT.\n",
            "\n",
            "Increase the number of iterations (max_iter) or scale the data as shown in:\n",
            "    https://scikit-learn.org/stable/modules/preprocessing.html\n",
            "Please also refer to the documentation for alternative solver options:\n",
            "    https://scikit-learn.org/stable/modules/linear_model.html#logistic-regression\n",
            "ConvergenceWarning: lbfgs failed to converge (status=1):\n",
            "STOP: TOTAL NO. of ITERATIONS REACHED LIMIT.\n",
            "\n",
            "Increase the number of iterations (max_iter) or scale the data as shown in:\n",
            "    https://scikit-learn.org/stable/modules/preprocessing.html\n",
            "Please also refer to the documentation for alternative solver options:\n",
            "    https://scikit-learn.org/stable/modules/linear_model.html#logistic-regression\n",
            "ConvergenceWarning: lbfgs failed to converge (status=1):\n",
            "STOP: TOTAL NO. of ITERATIONS REACHED LIMIT.\n",
            "\n",
            "Increase the number of iterations (max_iter) or scale the data as shown in:\n",
            "    https://scikit-learn.org/stable/modules/preprocessing.html\n",
            "Please also refer to the documentation for alternative solver options:\n",
            "    https://scikit-learn.org/stable/modules/linear_model.html#logistic-regression\n",
            "ConvergenceWarning: lbfgs failed to converge (status=1):\n",
            "STOP: TOTAL NO. of ITERATIONS REACHED LIMIT.\n",
            "\n",
            "Increase the number of iterations (max_iter) or scale the data as shown in:\n",
            "    https://scikit-learn.org/stable/modules/preprocessing.html\n",
            "Please also refer to the documentation for alternative solver options:\n",
            "    https://scikit-learn.org/stable/modules/linear_model.html#logistic-regression\n",
            "ConvergenceWarning: lbfgs failed to converge (status=1):\n",
            "STOP: TOTAL NO. of ITERATIONS REACHED LIMIT.\n",
            "\n",
            "Increase the number of iterations (max_iter) or scale the data as shown in:\n",
            "    https://scikit-learn.org/stable/modules/preprocessing.html\n",
            "Please also refer to the documentation for alternative solver options:\n",
            "    https://scikit-learn.org/stable/modules/linear_model.html#logistic-regression\n",
            "ConvergenceWarning: lbfgs failed to converge (status=1):\n",
            "STOP: TOTAL NO. of ITERATIONS REACHED LIMIT.\n",
            "\n",
            "Increase the number of iterations (max_iter) or scale the data as shown in:\n",
            "    https://scikit-learn.org/stable/modules/preprocessing.html\n",
            "Please also refer to the documentation for alternative solver options:\n",
            "    https://scikit-learn.org/stable/modules/linear_model.html#logistic-regression\n",
            "ConvergenceWarning: lbfgs failed to converge (status=1):\n",
            "STOP: TOTAL NO. of ITERATIONS REACHED LIMIT.\n",
            "\n",
            "Increase the number of iterations (max_iter) or scale the data as shown in:\n",
            "    https://scikit-learn.org/stable/modules/preprocessing.html\n",
            "Please also refer to the documentation for alternative solver options:\n",
            "    https://scikit-learn.org/stable/modules/linear_model.html#logistic-regression\n",
            "ConvergenceWarning: lbfgs failed to converge (status=1):\n",
            "STOP: TOTAL NO. of ITERATIONS REACHED LIMIT.\n",
            "\n",
            "Increase the number of iterations (max_iter) or scale the data as shown in:\n",
            "    https://scikit-learn.org/stable/modules/preprocessing.html\n",
            "Please also refer to the documentation for alternative solver options:\n",
            "    https://scikit-learn.org/stable/modules/linear_model.html#logistic-regression\n",
            "ConvergenceWarning: lbfgs failed to converge (status=1):\n",
            "STOP: TOTAL NO. of ITERATIONS REACHED LIMIT.\n",
            "\n",
            "Increase the number of iterations (max_iter) or scale the data as shown in:\n",
            "    https://scikit-learn.org/stable/modules/preprocessing.html\n",
            "Please also refer to the documentation for alternative solver options:\n",
            "    https://scikit-learn.org/stable/modules/linear_model.html#logistic-regression\n",
            "ConvergenceWarning: lbfgs failed to converge (status=1):\n",
            "STOP: TOTAL NO. of ITERATIONS REACHED LIMIT.\n",
            "\n",
            "Increase the number of iterations (max_iter) or scale the data as shown in:\n",
            "    https://scikit-learn.org/stable/modules/preprocessing.html\n",
            "Please also refer to the documentation for alternative solver options:\n",
            "    https://scikit-learn.org/stable/modules/linear_model.html#logistic-regression\n",
            "ConvergenceWarning: lbfgs failed to converge (status=1):\n",
            "STOP: TOTAL NO. of ITERATIONS REACHED LIMIT.\n",
            "\n",
            "Increase the number of iterations (max_iter) or scale the data as shown in:\n",
            "    https://scikit-learn.org/stable/modules/preprocessing.html\n",
            "Please also refer to the documentation for alternative solver options:\n",
            "    https://scikit-learn.org/stable/modules/linear_model.html#logistic-regression\n",
            "ConvergenceWarning: lbfgs failed to converge (status=1):\n",
            "STOP: TOTAL NO. of ITERATIONS REACHED LIMIT.\n",
            "\n",
            "Increase the number of iterations (max_iter) or scale the data as shown in:\n",
            "    https://scikit-learn.org/stable/modules/preprocessing.html\n",
            "Please also refer to the documentation for alternative solver options:\n",
            "    https://scikit-learn.org/stable/modules/linear_model.html#logistic-regression\n",
            "ConvergenceWarning: lbfgs failed to converge (status=1):\n",
            "STOP: TOTAL NO. of ITERATIONS REACHED LIMIT.\n",
            "\n",
            "Increase the number of iterations (max_iter) or scale the data as shown in:\n",
            "    https://scikit-learn.org/stable/modules/preprocessing.html\n",
            "Please also refer to the documentation for alternative solver options:\n",
            "    https://scikit-learn.org/stable/modules/linear_model.html#logistic-regression\n"
          ]
        }
      ],
      "source": [
        "## Sample from Data Set Randomly of Size i\n",
        "i = 10000\n",
        "dt_list = []\n",
        "rf_list = []\n",
        "nb_list = []\n",
        "lr_list = []\n",
        "num_samples = []\n",
        "while i <= 100000:\n",
        "  AL_r = AL.sample(n=i, random_state=0)\n",
        "  ## Split the Sample for Training and Testing\n",
        "\n",
        "  x_train, x_test, y_train, y_test = train_test_split(AL_r[['CRS_DEP_TIME', 'DEP_TIME', 'ARR_TIME', 'CRS_ELAPSED_TIME', 'ACTUAL_ELAPSED_TIME', 'ORIGIN_PRCP', 'DEST_PRCP']], AL_r['DELAY'], random_state=0)\n",
        "  dt_acc = run_decision_tree(x_train, y_train, x_test, y_test)\n",
        "  rf_acc = run_random_forest(x_train, y_train, x_test, y_test)\n",
        "  nb_acc = run_naive_bayes(x_train, y_train, x_test, y_test)\n",
        "  lr_acc = run_logistic_regression(x_train, y_train, x_test, y_test)\n",
        "  \n",
        "  dt_list.append(round(dt_acc*100, 2))\n",
        "  rf_list.append(round(rf_acc*100, 2))\n",
        "  nb_list.append(round(nb_acc*100, 2))\n",
        "  lr_list.append(round(lr_acc*100, 2))\n",
        "\n",
        "  num_samples.append(i)\n",
        "\n",
        "  i += 5000\n"
      ],
      "id": "TVRwYfLshXNQ"
    },
    {
      "cell_type": "code",
      "execution_count": null,
      "metadata": {
        "id": "9FUZbWUkGvzV"
      },
      "outputs": [],
      "source": [
        "samples_dict = {'Decision Tree Accuracy':dt_list, 'Random Forest Accuracy':rf_list, 'Naive Bayes (Gaussian) Accuracy': nb_list, 'Logistic Regression': lr_list}\n",
        "samples_df_weather = pd.DataFrame(data=samples_dict, index=num_samples)\n",
        "print(samples_df_weather)"
      ],
      "id": "9FUZbWUkGvzV"
    },
    {
      "cell_type": "code",
      "execution_count": null,
      "metadata": {
        "id": "D64yT0c9EeZP"
      },
      "outputs": [],
      "source": [
        "i = 10000\n",
        "idx = 0\n",
        "while i <=100000:\n",
        "  for model in samples_df_inital.columns:\n",
        "    print(f'{model} w/ {i} Samples (No Additional Parameters): {samples_df_inital[model].iloc[idx]}%, {model} w/ {i} Samples (Additional Day of Week Parameter): {samples_df_cat_days[model].iloc[idx]}%, Difference: {round(samples_df_inital[model].iloc[idx] - samples_df_cat_days[model].iloc[idx], 2)}%')\n",
        "  print()\n",
        "  i += 5000\n",
        "  idx += 1\n"
      ],
      "id": "D64yT0c9EeZP"
    },
    {
      "cell_type": "code",
      "execution_count": null,
      "metadata": {
        "id": "Fpm58zJTGcni",
        "colab": {
          "base_uri": "https://localhost:8080/"
        },
        "outputId": "cb684f5f-1813-46e4-8d29-2c38f83f9965"
      },
      "outputs": [
        {
          "output_type": "stream",
          "name": "stdout",
          "text": [
            "Decision Tree Accuracy w/ 10000 Samples (No Additional Parameters): 82.84%, Decision Tree Accuracy w/ 10000 Samples (Additional Weather Parameters): 89.84%, Difference: -7.0%\n",
            "Random Forest Accuracy w/ 10000 Samples (No Additional Parameters): 78.12%, Random Forest Accuracy w/ 10000 Samples (Additional Weather Parameters): 81.64%, Difference: -3.52%\n",
            "Naive Bayes (Gaussian) Accuracy w/ 10000 Samples (No Additional Parameters): 61.0%, Naive Bayes (Gaussian) Accuracy w/ 10000 Samples (Additional Weather Parameters): 60.92%, Difference: 0.08%\n",
            "Logistic Regression w/ 10000 Samples (No Additional Parameters): 63.0%, Logistic Regression w/ 10000 Samples (Additional Weather Parameters): 63.76%, Difference: -0.76%\n",
            "\n",
            "Decision Tree Accuracy w/ 15000 Samples (No Additional Parameters): 87.01%, Decision Tree Accuracy w/ 15000 Samples (Additional Weather Parameters): 91.68%, Difference: -4.67%\n",
            "Random Forest Accuracy w/ 15000 Samples (No Additional Parameters): 80.45%, Random Forest Accuracy w/ 15000 Samples (Additional Weather Parameters): 85.12%, Difference: -4.67%\n",
            "Naive Bayes (Gaussian) Accuracy w/ 15000 Samples (No Additional Parameters): 64.75%, Naive Bayes (Gaussian) Accuracy w/ 15000 Samples (Additional Weather Parameters): 63.52%, Difference: 1.23%\n",
            "Logistic Regression w/ 15000 Samples (No Additional Parameters): 65.12%, Logistic Regression w/ 15000 Samples (Additional Weather Parameters): 65.57%, Difference: -0.45%\n",
            "\n",
            "Decision Tree Accuracy w/ 20000 Samples (No Additional Parameters): 89.32%, Decision Tree Accuracy w/ 20000 Samples (Additional Weather Parameters): 92.6%, Difference: -3.28%\n",
            "Random Forest Accuracy w/ 20000 Samples (No Additional Parameters): 82.04%, Random Forest Accuracy w/ 20000 Samples (Additional Weather Parameters): 85.82%, Difference: -3.78%\n",
            "Naive Bayes (Gaussian) Accuracy w/ 20000 Samples (No Additional Parameters): 62.52%, Naive Bayes (Gaussian) Accuracy w/ 20000 Samples (Additional Weather Parameters): 62.4%, Difference: 0.12%\n",
            "Logistic Regression w/ 20000 Samples (No Additional Parameters): 65.68%, Logistic Regression w/ 20000 Samples (Additional Weather Parameters): 65.94%, Difference: -0.26%\n",
            "\n",
            "Decision Tree Accuracy w/ 25000 Samples (No Additional Parameters): 89.84%, Decision Tree Accuracy w/ 25000 Samples (Additional Weather Parameters): 94.03%, Difference: -4.19%\n",
            "Random Forest Accuracy w/ 25000 Samples (No Additional Parameters): 83.47%, Random Forest Accuracy w/ 25000 Samples (Additional Weather Parameters): 87.09%, Difference: -3.62%\n",
            "Naive Bayes (Gaussian) Accuracy w/ 25000 Samples (No Additional Parameters): 63.3%, Naive Bayes (Gaussian) Accuracy w/ 25000 Samples (Additional Weather Parameters): 63.23%, Difference: 0.07%\n",
            "Logistic Regression w/ 25000 Samples (No Additional Parameters): 66.48%, Logistic Regression w/ 25000 Samples (Additional Weather Parameters): 67.14%, Difference: -0.66%\n",
            "\n",
            "Decision Tree Accuracy w/ 30000 Samples (No Additional Parameters): 92.2%, Decision Tree Accuracy w/ 30000 Samples (Additional Weather Parameters): 95.11%, Difference: -2.91%\n",
            "Random Forest Accuracy w/ 30000 Samples (No Additional Parameters): 84.59%, Random Forest Accuracy w/ 30000 Samples (Additional Weather Parameters): 87.04%, Difference: -2.45%\n",
            "Naive Bayes (Gaussian) Accuracy w/ 30000 Samples (No Additional Parameters): 63.35%, Naive Bayes (Gaussian) Accuracy w/ 30000 Samples (Additional Weather Parameters): 63.28%, Difference: 0.07%\n",
            "Logistic Regression w/ 30000 Samples (No Additional Parameters): 69.08%, Logistic Regression w/ 30000 Samples (Additional Weather Parameters): 69.61%, Difference: -0.53%\n",
            "\n",
            "Decision Tree Accuracy w/ 35000 Samples (No Additional Parameters): 93.07%, Decision Tree Accuracy w/ 35000 Samples (Additional Weather Parameters): 96.61%, Difference: -3.54%\n",
            "Random Forest Accuracy w/ 35000 Samples (No Additional Parameters): 85.36%, Random Forest Accuracy w/ 35000 Samples (Additional Weather Parameters): 88.15%, Difference: -2.79%\n",
            "Naive Bayes (Gaussian) Accuracy w/ 35000 Samples (No Additional Parameters): 63.86%, Naive Bayes (Gaussian) Accuracy w/ 35000 Samples (Additional Weather Parameters): 63.92%, Difference: -0.06%\n",
            "Logistic Regression w/ 35000 Samples (No Additional Parameters): 68.55%, Logistic Regression w/ 35000 Samples (Additional Weather Parameters): 68.25%, Difference: 0.3%\n",
            "\n",
            "Decision Tree Accuracy w/ 40000 Samples (No Additional Parameters): 94.49%, Decision Tree Accuracy w/ 40000 Samples (Additional Weather Parameters): 96.73%, Difference: -2.24%\n",
            "Random Forest Accuracy w/ 40000 Samples (No Additional Parameters): 86.5%, Random Forest Accuracy w/ 40000 Samples (Additional Weather Parameters): 89.03%, Difference: -2.53%\n",
            "Naive Bayes (Gaussian) Accuracy w/ 40000 Samples (No Additional Parameters): 63.5%, Naive Bayes (Gaussian) Accuracy w/ 40000 Samples (Additional Weather Parameters): 63.52%, Difference: -0.02%\n",
            "Logistic Regression w/ 40000 Samples (No Additional Parameters): 68.25%, Logistic Regression w/ 40000 Samples (Additional Weather Parameters): 67.36%, Difference: 0.89%\n",
            "\n",
            "Decision Tree Accuracy w/ 45000 Samples (No Additional Parameters): 94.72%, Decision Tree Accuracy w/ 45000 Samples (Additional Weather Parameters): 96.97%, Difference: -2.25%\n",
            "Random Forest Accuracy w/ 45000 Samples (No Additional Parameters): 86.41%, Random Forest Accuracy w/ 45000 Samples (Additional Weather Parameters): 89.21%, Difference: -2.8%\n",
            "Naive Bayes (Gaussian) Accuracy w/ 45000 Samples (No Additional Parameters): 63.72%, Naive Bayes (Gaussian) Accuracy w/ 45000 Samples (Additional Weather Parameters): 63.65%, Difference: 0.07%\n",
            "Logistic Regression w/ 45000 Samples (No Additional Parameters): 69.68%, Logistic Regression w/ 45000 Samples (Additional Weather Parameters): 67.25%, Difference: 2.43%\n",
            "\n",
            "Decision Tree Accuracy w/ 50000 Samples (No Additional Parameters): 95.54%, Decision Tree Accuracy w/ 50000 Samples (Additional Weather Parameters): 97.07%, Difference: -1.53%\n",
            "Random Forest Accuracy w/ 50000 Samples (No Additional Parameters): 86.71%, Random Forest Accuracy w/ 50000 Samples (Additional Weather Parameters): 89.76%, Difference: -3.05%\n",
            "Naive Bayes (Gaussian) Accuracy w/ 50000 Samples (No Additional Parameters): 63.37%, Naive Bayes (Gaussian) Accuracy w/ 50000 Samples (Additional Weather Parameters): 63.68%, Difference: -0.31%\n",
            "Logistic Regression w/ 50000 Samples (No Additional Parameters): 68.87%, Logistic Regression w/ 50000 Samples (Additional Weather Parameters): 68.58%, Difference: 0.29%\n",
            "\n",
            "Decision Tree Accuracy w/ 55000 Samples (No Additional Parameters): 95.46%, Decision Tree Accuracy w/ 55000 Samples (Additional Weather Parameters): 96.6%, Difference: -1.14%\n",
            "Random Forest Accuracy w/ 55000 Samples (No Additional Parameters): 87.13%, Random Forest Accuracy w/ 55000 Samples (Additional Weather Parameters): 90.09%, Difference: -2.96%\n",
            "Naive Bayes (Gaussian) Accuracy w/ 55000 Samples (No Additional Parameters): 63.86%, Naive Bayes (Gaussian) Accuracy w/ 55000 Samples (Additional Weather Parameters): 63.89%, Difference: -0.03%\n",
            "Logistic Regression w/ 55000 Samples (No Additional Parameters): 68.9%, Logistic Regression w/ 55000 Samples (Additional Weather Parameters): 69.72%, Difference: -0.82%\n",
            "\n",
            "Decision Tree Accuracy w/ 60000 Samples (No Additional Parameters): 95.71%, Decision Tree Accuracy w/ 60000 Samples (Additional Weather Parameters): 97.31%, Difference: -1.6%\n",
            "Random Forest Accuracy w/ 60000 Samples (No Additional Parameters): 87.03%, Random Forest Accuracy w/ 60000 Samples (Additional Weather Parameters): 90.21%, Difference: -3.18%\n",
            "Naive Bayes (Gaussian) Accuracy w/ 60000 Samples (No Additional Parameters): 64.24%, Naive Bayes (Gaussian) Accuracy w/ 60000 Samples (Additional Weather Parameters): 63.83%, Difference: 0.41%\n",
            "Logistic Regression w/ 60000 Samples (No Additional Parameters): 69.63%, Logistic Regression w/ 60000 Samples (Additional Weather Parameters): 70.75%, Difference: -1.12%\n",
            "\n",
            "Decision Tree Accuracy w/ 65000 Samples (No Additional Parameters): 95.99%, Decision Tree Accuracy w/ 65000 Samples (Additional Weather Parameters): 97.27%, Difference: -1.28%\n",
            "Random Forest Accuracy w/ 65000 Samples (No Additional Parameters): 87.69%, Random Forest Accuracy w/ 65000 Samples (Additional Weather Parameters): 90.63%, Difference: -2.94%\n",
            "Naive Bayes (Gaussian) Accuracy w/ 65000 Samples (No Additional Parameters): 63.66%, Naive Bayes (Gaussian) Accuracy w/ 65000 Samples (Additional Weather Parameters): 63.5%, Difference: 0.16%\n",
            "Logistic Regression w/ 65000 Samples (No Additional Parameters): 68.89%, Logistic Regression w/ 65000 Samples (Additional Weather Parameters): 68.83%, Difference: 0.06%\n",
            "\n",
            "Decision Tree Accuracy w/ 70000 Samples (No Additional Parameters): 96.05%, Decision Tree Accuracy w/ 70000 Samples (Additional Weather Parameters): 97.51%, Difference: -1.46%\n",
            "Random Forest Accuracy w/ 70000 Samples (No Additional Parameters): 87.73%, Random Forest Accuracy w/ 70000 Samples (Additional Weather Parameters): 90.7%, Difference: -2.97%\n",
            "Naive Bayes (Gaussian) Accuracy w/ 70000 Samples (No Additional Parameters): 63.33%, Naive Bayes (Gaussian) Accuracy w/ 70000 Samples (Additional Weather Parameters): 62.95%, Difference: 0.38%\n",
            "Logistic Regression w/ 70000 Samples (No Additional Parameters): 69.34%, Logistic Regression w/ 70000 Samples (Additional Weather Parameters): 69.41%, Difference: -0.07%\n",
            "\n",
            "Decision Tree Accuracy w/ 75000 Samples (No Additional Parameters): 96.2%, Decision Tree Accuracy w/ 75000 Samples (Additional Weather Parameters): 97.89%, Difference: -1.69%\n",
            "Random Forest Accuracy w/ 75000 Samples (No Additional Parameters): 88.05%, Random Forest Accuracy w/ 75000 Samples (Additional Weather Parameters): 90.44%, Difference: -2.39%\n",
            "Naive Bayes (Gaussian) Accuracy w/ 75000 Samples (No Additional Parameters): 64.05%, Naive Bayes (Gaussian) Accuracy w/ 75000 Samples (Additional Weather Parameters): 63.79%, Difference: 0.26%\n",
            "Logistic Regression w/ 75000 Samples (No Additional Parameters): 70.29%, Logistic Regression w/ 75000 Samples (Additional Weather Parameters): 68.44%, Difference: 1.85%\n",
            "\n",
            "Decision Tree Accuracy w/ 80000 Samples (No Additional Parameters): 97.32%, Decision Tree Accuracy w/ 80000 Samples (Additional Weather Parameters): 97.8%, Difference: -0.48%\n",
            "Random Forest Accuracy w/ 80000 Samples (No Additional Parameters): 88.64%, Random Forest Accuracy w/ 80000 Samples (Additional Weather Parameters): 91.49%, Difference: -2.85%\n",
            "Naive Bayes (Gaussian) Accuracy w/ 80000 Samples (No Additional Parameters): 64.0%, Naive Bayes (Gaussian) Accuracy w/ 80000 Samples (Additional Weather Parameters): 64.1%, Difference: -0.1%\n",
            "Logistic Regression w/ 80000 Samples (No Additional Parameters): 69.86%, Logistic Regression w/ 80000 Samples (Additional Weather Parameters): 70.2%, Difference: -0.34%\n",
            "\n",
            "Decision Tree Accuracy w/ 85000 Samples (No Additional Parameters): 96.93%, Decision Tree Accuracy w/ 85000 Samples (Additional Weather Parameters): 97.7%, Difference: -0.77%\n",
            "Random Forest Accuracy w/ 85000 Samples (No Additional Parameters): 88.37%, Random Forest Accuracy w/ 85000 Samples (Additional Weather Parameters): 91.22%, Difference: -2.85%\n",
            "Naive Bayes (Gaussian) Accuracy w/ 85000 Samples (No Additional Parameters): 63.6%, Naive Bayes (Gaussian) Accuracy w/ 85000 Samples (Additional Weather Parameters): 63.85%, Difference: -0.25%\n",
            "Logistic Regression w/ 85000 Samples (No Additional Parameters): 70.73%, Logistic Regression w/ 85000 Samples (Additional Weather Parameters): 69.84%, Difference: 0.89%\n",
            "\n",
            "Decision Tree Accuracy w/ 90000 Samples (No Additional Parameters): 96.88%, Decision Tree Accuracy w/ 90000 Samples (Additional Weather Parameters): 97.86%, Difference: -0.98%\n",
            "Random Forest Accuracy w/ 90000 Samples (No Additional Parameters): 88.76%, Random Forest Accuracy w/ 90000 Samples (Additional Weather Parameters): 91.36%, Difference: -2.6%\n",
            "Naive Bayes (Gaussian) Accuracy w/ 90000 Samples (No Additional Parameters): 63.91%, Naive Bayes (Gaussian) Accuracy w/ 90000 Samples (Additional Weather Parameters): 63.99%, Difference: -0.08%\n",
            "Logistic Regression w/ 90000 Samples (No Additional Parameters): 70.29%, Logistic Regression w/ 90000 Samples (Additional Weather Parameters): 70.27%, Difference: 0.02%\n",
            "\n",
            "Decision Tree Accuracy w/ 95000 Samples (No Additional Parameters): 97.08%, Decision Tree Accuracy w/ 95000 Samples (Additional Weather Parameters): 98.03%, Difference: -0.95%\n",
            "Random Forest Accuracy w/ 95000 Samples (No Additional Parameters): 88.97%, Random Forest Accuracy w/ 95000 Samples (Additional Weather Parameters): 91.67%, Difference: -2.7%\n",
            "Naive Bayes (Gaussian) Accuracy w/ 95000 Samples (No Additional Parameters): 64.33%, Naive Bayes (Gaussian) Accuracy w/ 95000 Samples (Additional Weather Parameters): 64.48%, Difference: -0.15%\n",
            "Logistic Regression w/ 95000 Samples (No Additional Parameters): 70.07%, Logistic Regression w/ 95000 Samples (Additional Weather Parameters): 70.35%, Difference: -0.28%\n",
            "\n",
            "Decision Tree Accuracy w/ 100000 Samples (No Additional Parameters): 97.15%, Decision Tree Accuracy w/ 100000 Samples (Additional Weather Parameters): 98.2%, Difference: -1.05%\n",
            "Random Forest Accuracy w/ 100000 Samples (No Additional Parameters): 89.13%, Random Forest Accuracy w/ 100000 Samples (Additional Weather Parameters): 91.54%, Difference: -2.41%\n",
            "Naive Bayes (Gaussian) Accuracy w/ 100000 Samples (No Additional Parameters): 63.97%, Naive Bayes (Gaussian) Accuracy w/ 100000 Samples (Additional Weather Parameters): 64.09%, Difference: -0.12%\n",
            "Logistic Regression w/ 100000 Samples (No Additional Parameters): 70.05%, Logistic Regression w/ 100000 Samples (Additional Weather Parameters): 67.48%, Difference: 2.57%\n",
            "\n"
          ]
        }
      ],
      "source": [
        "i = 10000\n",
        "idx = 0\n",
        "while i <=100000:\n",
        "  for model in samples_df_inital.columns:\n",
        "    print(f'{model} w/ {i} Samples (No Additional Parameters): {samples_df_inital[model].iloc[idx]}%, {model} w/ {i} Samples (Additional Weather Parameters): {samples_df_weather[model].iloc[idx]}%, Difference: {round(samples_df_inital[model].iloc[idx] - samples_df_weather[model].iloc[idx], 2)}%')\n",
        "  print()\n",
        "  i += 5000\n",
        "  idx += 1"
      ],
      "id": "Fpm58zJTGcni"
    },
    {
      "cell_type": "code",
      "execution_count": null,
      "metadata": {
        "id": "M9NzvCJNG8K6",
        "colab": {
          "base_uri": "https://localhost:8080/",
          "height": 1000
        },
        "outputId": "b4e9beef-d85c-4c6a-a531-7e618dd36ce2"
      },
      "outputs": [
        {
          "output_type": "display_data",
          "data": {
            "text/plain": [
              "<Figure size 1732.88x827 with 1 Axes>"
            ],
            "image/png": "[encoded data removed]"
          },
          "metadata": {}
        },
        {
          "output_type": "display_data",
          "data": {
            "text/plain": [
              "<Figure size 1732.88x827 with 1 Axes>"
            ],
            "image/png": "[encoded data removed]"
          },
          "metadata": {}
        },
        {
          "output_type": "display_data",
          "data": {
            "text/plain": [
              "<Figure size 1732.88x827 with 1 Axes>"
            ],
            "image/png": "[encoded data removed]"
          },
          "metadata": {}
        },
        {
          "output_type": "display_data",
          "data": {
            "text/plain": [
              "<Figure size 1732.88x827 with 1 Axes>"
            ],
            "image/png": "[encoded data removed]"
          },
          "metadata": {}
        }
      ],
      "source": [
        "## Plot Histograms for Each Model\n",
        "from matplotlib import rcParams\n",
        "\n",
        "# figure size in inches\n",
        "rcParams['figure.figsize'] = 20 , 20\n",
        "\n",
        "for model in samples_df_inital.columns:\n",
        "\n",
        "  indexes =  list(samples_df_inital.index.values) + list(samples_df_reduced_param.index.values) + list(samples_df_cat_days.index.values) + list(samples_df_weather.index.values)\n",
        "  algo = ['No Additional Parameters'] * 19 + ['Reduced Parameters'] * 19 + ['Additional Day of Week Parameter'] * 19 + ['Additional Weather Parameters for Origin and Destination Airports'] * 19\n",
        "  accurs = list(samples_df_inital[model]) + list(samples_df_reduced_param[model]) + list(samples_df_cat_days[model]) + list(samples_df_weather[model])\n",
        "\n",
        "  conjoined_models = {'Indexes': indexes, 'Algorithm': algo, 'Accuracies': accurs}\n",
        "  conjoined_model_df = pd.DataFrame(data=conjoined_models)\n",
        "  sns.catplot(kind='bar', data=conjoined_model_df, x='Indexes', y='Accuracies', hue='Algorithm', height=8.27, aspect=11.7/8.27)\n",
        "\n",
        "  plt.ylim(0,100)\n",
        "  plt.title(model)"
      ],
      "id": "M9NzvCJNG8K6"
    }
  ],
  "metadata": {
    "colab": {
      "provenance": []
    },
    "kernelspec": {
      "display_name": "Python 3 (ipykernel)",
      "language": "python",
      "name": "python3"
    },
    "language_info": {
      "codemirror_mode": {
        "name": "ipython",
        "version": 3
      },
      "file_extension": ".py",
      "mimetype": "text/x-python",
      "name": "python",
      "nbconvert_exporter": "python",
      "pygments_lexer": "ipython3",
      "version": "3.9.13"
    }
  },
  "nbformat": 4,
  "nbformat_minor": 5
}